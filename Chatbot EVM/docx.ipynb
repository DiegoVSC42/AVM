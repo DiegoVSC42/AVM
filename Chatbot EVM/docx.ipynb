{
 "cells": [
  {
   "cell_type": "code",
   "execution_count": 1,
   "id": "c79012dc",
   "metadata": {},
   "outputs": [
    {
     "name": "stdout",
     "output_type": "stream",
     "text": [
      "Defaulting to user installation because normal site-packages is not writeable\n",
      "Requirement already satisfied: python-docx in c:\\users\\admin\\appdata\\local\\packages\\pythonsoftwarefoundation.python.3.12_qbz5n2kfra8p0\\localcache\\local-packages\\python312\\site-packages (1.2.0)\n",
      "Requirement already satisfied: lxml>=3.1.0 in c:\\users\\admin\\appdata\\local\\packages\\pythonsoftwarefoundation.python.3.12_qbz5n2kfra8p0\\localcache\\local-packages\\python312\\site-packages (from python-docx) (6.0.0)\n",
      "Requirement already satisfied: typing_extensions>=4.9.0 in c:\\users\\admin\\appdata\\local\\packages\\pythonsoftwarefoundation.python.3.12_qbz5n2kfra8p0\\localcache\\local-packages\\python312\\site-packages (from python-docx) (4.14.1)\n",
      "Note: you may need to restart the kernel to use updated packages.\n"
     ]
    }
   ],
   "source": [
    "pip install python-docx\n"
   ]
  },
  {
   "cell_type": "code",
   "execution_count": null,
   "id": "cb4aad9d",
   "metadata": {},
   "outputs": [],
   "source": [
    "# ler_docx.py\n",
    "from docx import Document\n",
    "\n",
    "def ler_docx(caminho_arquivo):\n",
    "    doc = Document(caminho_arquivo)\n",
    "    texto_final = []\n",
    "    \n",
    "    for paragrafo in doc.paragraphs:\n",
    "        if paragrafo.text.strip():  # ignora linhas vazias\n",
    "            texto_final.append(paragrafo.text.strip())\n",
    "    \n",
    "    return \"\\n\".join(texto_final)\n",
    "\n",
    "if __name__ == \"__main__\":\n",
    "    caminho = \"seu_arquivo.docx\"\n",
    "    texto = ler_docx(caminho)\n",
    "    print(\"=== TEXTO EXTRAÍDO DO DOCX ===\")\n",
    "    print(texto)"
   ]
  }
 ],
 "metadata": {
  "kernelspec": {
   "display_name": "Python 3",
   "language": "python",
   "name": "python3"
  },
  "language_info": {
   "codemirror_mode": {
    "name": "ipython",
    "version": 3
   },
   "file_extension": ".py",
   "mimetype": "text/x-python",
   "name": "python",
   "nbconvert_exporter": "python",
   "pygments_lexer": "ipython3",
   "version": "3.12.10"
  }
 },
 "nbformat": 4,
 "nbformat_minor": 5
}
