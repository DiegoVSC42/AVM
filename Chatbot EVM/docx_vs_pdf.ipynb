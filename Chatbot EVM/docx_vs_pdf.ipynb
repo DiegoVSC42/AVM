{
 "cells": [
  {
   "cell_type": "code",
   "execution_count": 2,
   "id": "8bd21c4d",
   "metadata": {},
   "outputs": [
    {
     "ename": "SyntaxError",
     "evalue": "invalid syntax (434268409.py, line 1)",
     "output_type": "error",
     "traceback": [
      "  \u001b[36mCell\u001b[39m\u001b[36m \u001b[39m\u001b[32mIn[2]\u001b[39m\u001b[32m, line 1\u001b[39m\n\u001b[31m    \u001b[39m\u001b[31mpip install python-docx\u001b[39m\n        ^\n\u001b[31mSyntaxError\u001b[39m\u001b[31m:\u001b[39m invalid syntax\n"
     ]
    }
   ],
   "source": [
    "pip install python-docx\n",
    "pip install PyMuPDF\n"
   ]
  },
  {
   "cell_type": "code",
   "execution_count": 8,
   "id": "7acf540f",
   "metadata": {},
   "outputs": [
    {
     "name": "stdout",
     "output_type": "stream",
     "text": [
      "=== TEXTO EXTRAÍDO DO DOCX ===\n",
      "Perguntas Frequentes – Canal Eu Vereador\n",
      "\n",
      "Quem pode participar?\n",
      "O curso é só para candidatos?\n",
      "Qual é a carga horária e como é a programação?\n",
      "Onde e quando acontece o curso?\n",
      "O que está incluso na inscrição?\n",
      "O curso é prático ou teórico?\n",
      "O curso oferece certificado?\n",
      "Qual é o valor da inscrição?\n",
      "É possível pagar por nota de empenho?\n",
      "Quantas vagas estão disponíveis?\n",
      "Vai ter gravação das aulas?\n",
      "O curso ajuda diretamente na reeleição?\n"
     ]
    }
   ],
   "source": [
    "# ler_docx_puro.py\n",
    "from docx import Document\n",
    "\n",
    "def ler_docx(caminho_arquivo):\n",
    "    doc = Document(caminho_arquivo)\n",
    "    texto_final = [p.text for p in doc.paragraphs]\n",
    "    return \"\\n\".join(texto_final)\n",
    "\n",
    "if __name__ == \"__main__\":\n",
    "    caminho = r\"C:\\Users\\Admin\\Documents\\GIT\\AVM\\Chatbot\\documentos\\Perguntas Frequentes - Eu Vereador.docx\"\n",
    "    texto_docx = ler_docx(caminho)\n",
    "    print(\"=== TEXTO EXTRAÍDO DO DOCX ===\")\n",
    "    print(texto_docx)\n"
   ]
  },
  {
   "cell_type": "code",
   "execution_count": null,
   "id": "6d0c6223",
   "metadata": {},
   "outputs": [
    {
     "name": "stdout",
     "output_type": "stream",
     "text": [
      "=== TEXTO EXTRAÍDO DO DOCX ===\n",
      "Perguntas Frequentes – Canal Eu Vereador\n",
      "\n",
      "Quem pode participar?\n",
      "O curso é só para candidatos?\n",
      "Qual é a carga horária e como é a programação?\n",
      "Onde e quando acontece o curso?\n",
      "O que está incluso na inscrição?\n",
      "O curso é prático ou teórico?\n",
      "O curso oferece certificado?\n",
      "Qual é o valor da inscrição?\n",
      "É possível pagar por nota de empenho?\n",
      "Quantas vagas estão disponíveis?\n",
      "Vai ter gravação das aulas?\n",
      "O curso ajuda diretamente na reeleição?\n"
     ]
    }
   ],
   "source": [
    "# ler_pdf_puro.py\n",
    "import fitz  # PyMuPDF\n",
    "\n",
    "def ler_pdf(caminho_arquivo):\n",
    "    doc = fitz.open(caminho_arquivo)\n",
    "    texto_final = [pagina.get_text() for pagina in doc]\n",
    "    return \"\".join(texto_final)\n",
    "\n",
    "if __name__ == \"__main__\":\n",
    "    caminho = r\"C:\\Users\\Admin\\Documents\\GIT\\AVM\\Chatbot\\documentos\\Perguntas Frequentes - Eu Vereador.pdf\"\n",
    "    texto_pdf = ler_pdf(caminho)\n",
    "    print(\"=== TEXTO EXTRAÍDO DO PDF ===\")\n",
    "    print(texto_pdf)\n"
   ]
  },
  {
   "cell_type": "code",
   "execution_count": 18,
   "id": "a3f73e1e",
   "metadata": {},
   "outputs": [
    {
     "name": "stdout",
     "output_type": "stream",
     "text": [
      "Iguais: False\n",
      "Similaridade: 95.67%\n",
      "\n",
      "=== Diferenças ===\n",
      "\u001b[92m+ 1.\u001b[0m\n",
      "\u001b[92m+ 2.\u001b[0m\n",
      "\u001b[92m+ 3.\u001b[0m\n",
      "\u001b[92m+ 4.\u001b[0m\n",
      "\u001b[92m+ 5.\u001b[0m\n",
      "\u001b[92m+ 6.\u001b[0m\n",
      "\u001b[92m+ 7.\u001b[0m\n",
      "\u001b[92m+ 8.\u001b[0m\n",
      "\u001b[92m+ 9.\u001b[0m\n",
      "\u001b[92m+ 10.\u001b[0m\n",
      "\u001b[92m+ 11.\u001b[0m\n",
      "\u001b[92m+ 12.\u001b[0m\n"
     ]
    }
   ],
   "source": [
    "# comparar_strings_so_diferencas.py\n",
    "import difflib\n",
    "import re\n",
    "\n",
    "def normalizar(texto):\n",
    "    # Remove espaços extras e quebras de linha múltiplas\n",
    "    return re.sub(r\"\\s+\", \" \", texto).strip()\n",
    "\n",
    "def comparar_strings_legivel(str1, str2):\n",
    "    str1_norm = normalizar(str1)\n",
    "    str2_norm = normalizar(str2)\n",
    "\n",
    "    iguais = str1_norm == str2_norm\n",
    "    print(f\"Iguais: {iguais}\")\n",
    "    \n",
    "    similaridade = difflib.SequenceMatcher(None, str1_norm, str2_norm).ratio() * 100\n",
    "    print(f\"Similaridade: {similaridade:.2f}%\\n\")\n",
    "    \n",
    "    # Gera diferenças\n",
    "    diff = difflib.ndiff(str1_norm.split(), str2_norm.split())\n",
    "    diferencas_reais = [d for d in diff if d.startswith(\"- \") or d.startswith(\"+ \")]\n",
    "\n",
    "    print(\"=== Diferenças ===\")\n",
    "    if diferencas_reais:\n",
    "        for d in diferencas_reais:\n",
    "            if d.startswith(\"- \"):  # removido\n",
    "                print(f\"\\033[91m{d}\\033[0m\")  # vermelho\n",
    "            elif d.startswith(\"+ \"):  # adicionado\n",
    "                print(f\"\\033[92m{d}\\033[0m\")  # verde\n",
    "    else:\n",
    "        print(\"Nenhuma diferença encontrada.\")\n",
    "\n",
    "if __name__ == \"__main__\":\n",
    "    comparar_strings_legivel(texto_docx, texto_pdf)\n"
   ]
  },
  {
   "cell_type": "code",
   "execution_count": 19,
   "id": "813f1d6e",
   "metadata": {},
   "outputs": [
    {
     "name": "stdout",
     "output_type": "stream",
     "text": [
      "Iguais: False\n",
      "Similaridade: 95.67%\n",
      "\n",
      "=== Diferenças ===\n",
      "\u001b[92m+ 1.\u001b[0m\n",
      "\u001b[92m+ 2.\u001b[0m\n",
      "\u001b[92m+ 3.\u001b[0m\n",
      "\u001b[92m+ 4.\u001b[0m\n",
      "\u001b[92m+ 5.\u001b[0m\n",
      "\u001b[92m+ 6.\u001b[0m\n",
      "\u001b[92m+ 7.\u001b[0m\n",
      "\u001b[92m+ 8.\u001b[0m\n",
      "\u001b[92m+ 9.\u001b[0m\n",
      "\u001b[92m+ 10.\u001b[0m\n",
      "\u001b[92m+ 11.\u001b[0m\n",
      "\u001b[92m+ 12.\u001b[0m\n"
     ]
    }
   ],
   "source": [
    "texto_original = \"\"\"\n",
    "Perguntas Frequentes – Canal Eu Vereador\n",
    "1. Quem pode participar?\n",
    "2. O curso é só para candidatos?\n",
    "3. Qual é a carga horária e como é a programação?\n",
    "4. Onde e quando acontece o curso?\n",
    "5. O que está incluso na inscrição?\n",
    "6. O curso é prático ou teórico?\n",
    "7. O curso oferece certificado?\n",
    "8. Qual é o valor da inscrição?\n",
    "9. É possível pagar por nota de empenho?\n",
    "10. Quantas vagas estão disponíveis?\n",
    "11. Vai ter gravação das aulas?\n",
    "12. O curso ajuda diretamente na reeleição? \n",
    "\"\"\"\n",
    "comparar_strings_legivel(texto_docx, texto_original)"
   ]
  },
  {
   "cell_type": "code",
   "execution_count": 20,
   "id": "fff14af2",
   "metadata": {},
   "outputs": [
    {
     "name": "stdout",
     "output_type": "stream",
     "text": [
      "Iguais: True\n",
      "Similaridade: 100.00%\n",
      "\n",
      "=== Diferenças ===\n",
      "Nenhuma diferença encontrada.\n"
     ]
    }
   ],
   "source": [
    "comparar_strings_legivel(texto_pdf, texto_original)"
   ]
  }
 ],
 "metadata": {
  "kernelspec": {
   "display_name": "Python 3",
   "language": "python",
   "name": "python3"
  },
  "language_info": {
   "codemirror_mode": {
    "name": "ipython",
    "version": 3
   },
   "file_extension": ".py",
   "mimetype": "text/x-python",
   "name": "python",
   "nbconvert_exporter": "python",
   "pygments_lexer": "ipython3",
   "version": "3.12.10"
  }
 },
 "nbformat": 4,
 "nbformat_minor": 5
}
