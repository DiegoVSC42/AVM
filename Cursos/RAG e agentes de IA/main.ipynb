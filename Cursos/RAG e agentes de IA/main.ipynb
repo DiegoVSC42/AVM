{
 "cells": [
  {
   "cell_type": "code",
   "execution_count": 416,
   "id": "2e620100",
   "metadata": {},
   "outputs": [
    {
     "name": "stdout",
     "output_type": "stream",
     "text": [
      "Note: you may need to restart the kernel to use updated packages.\n",
      "Defaulting to user installation because normal site-packages is not writeable\n",
      "Requirement already satisfied: langchain in c:\\users\\admin\\appdata\\local\\packages\\pythonsoftwarefoundation.python.3.12_qbz5n2kfra8p0\\localcache\\local-packages\\python312\\site-packages (0.3.27)\n",
      "Requirement already satisfied: langchain-core<1.0.0,>=0.3.72 in c:\\users\\admin\\appdata\\local\\packages\\pythonsoftwarefoundation.python.3.12_qbz5n2kfra8p0\\localcache\\local-packages\\python312\\site-packages (from langchain) (0.3.74)\n",
      "Requirement already satisfied: langchain-text-splitters<1.0.0,>=0.3.9 in c:\\users\\admin\\appdata\\local\\packages\\pythonsoftwarefoundation.python.3.12_qbz5n2kfra8p0\\localcache\\local-packages\\python312\\site-packages (from langchain) (0.3.9)\n",
      "Requirement already satisfied: langsmith>=0.1.17 in c:\\users\\admin\\appdata\\local\\packages\\pythonsoftwarefoundation.python.3.12_qbz5n2kfra8p0\\localcache\\local-packages\\python312\\site-packages (from langchain) (0.4.10)\n",
      "Requirement already satisfied: pydantic<3.0.0,>=2.7.4 in c:\\users\\admin\\appdata\\local\\packages\\pythonsoftwarefoundation.python.3.12_qbz5n2kfra8p0\\localcache\\local-packages\\python312\\site-packages (from langchain) (2.11.7)\n",
      "Requirement already satisfied: SQLAlchemy<3,>=1.4 in c:\\users\\admin\\appdata\\local\\packages\\pythonsoftwarefoundation.python.3.12_qbz5n2kfra8p0\\localcache\\local-packages\\python312\\site-packages (from langchain) (2.0.42)\n",
      "Requirement already satisfied: requests<3,>=2 in c:\\users\\admin\\appdata\\local\\packages\\pythonsoftwarefoundation.python.3.12_qbz5n2kfra8p0\\localcache\\local-packages\\python312\\site-packages (from langchain) (2.32.4)\n",
      "Requirement already satisfied: PyYAML>=5.3 in c:\\users\\admin\\appdata\\local\\packages\\pythonsoftwarefoundation.python.3.12_qbz5n2kfra8p0\\localcache\\local-packages\\python312\\site-packages (from langchain) (6.0.2)\n",
      "Requirement already satisfied: tenacity!=8.4.0,<10.0.0,>=8.1.0 in c:\\users\\admin\\appdata\\local\\packages\\pythonsoftwarefoundation.python.3.12_qbz5n2kfra8p0\\localcache\\local-packages\\python312\\site-packages (from langchain-core<1.0.0,>=0.3.72->langchain) (9.1.2)\n",
      "Requirement already satisfied: jsonpatch<2.0,>=1.33 in c:\\users\\admin\\appdata\\local\\packages\\pythonsoftwarefoundation.python.3.12_qbz5n2kfra8p0\\localcache\\local-packages\\python312\\site-packages (from langchain-core<1.0.0,>=0.3.72->langchain) (1.33)\n",
      "Requirement already satisfied: typing-extensions>=4.7 in c:\\users\\admin\\appdata\\local\\packages\\pythonsoftwarefoundation.python.3.12_qbz5n2kfra8p0\\localcache\\local-packages\\python312\\site-packages (from langchain-core<1.0.0,>=0.3.72->langchain) (4.14.1)\n",
      "Requirement already satisfied: packaging>=23.2 in c:\\users\\admin\\appdata\\local\\packages\\pythonsoftwarefoundation.python.3.12_qbz5n2kfra8p0\\localcache\\local-packages\\python312\\site-packages (from langchain-core<1.0.0,>=0.3.72->langchain) (24.2)\n",
      "Requirement already satisfied: jsonpointer>=1.9 in c:\\users\\admin\\appdata\\local\\packages\\pythonsoftwarefoundation.python.3.12_qbz5n2kfra8p0\\localcache\\local-packages\\python312\\site-packages (from jsonpatch<2.0,>=1.33->langchain-core<1.0.0,>=0.3.72->langchain) (3.0.0)\n",
      "Requirement already satisfied: annotated-types>=0.6.0 in c:\\users\\admin\\appdata\\local\\packages\\pythonsoftwarefoundation.python.3.12_qbz5n2kfra8p0\\localcache\\local-packages\\python312\\site-packages (from pydantic<3.0.0,>=2.7.4->langchain) (0.7.0)\n",
      "Requirement already satisfied: pydantic-core==2.33.2 in c:\\users\\admin\\appdata\\local\\packages\\pythonsoftwarefoundation.python.3.12_qbz5n2kfra8p0\\localcache\\local-packages\\python312\\site-packages (from pydantic<3.0.0,>=2.7.4->langchain) (2.33.2)\n",
      "Requirement already satisfied: typing-inspection>=0.4.0 in c:\\users\\admin\\appdata\\local\\packages\\pythonsoftwarefoundation.python.3.12_qbz5n2kfra8p0\\localcache\\local-packages\\python312\\site-packages (from pydantic<3.0.0,>=2.7.4->langchain) (0.4.1)\n",
      "Requirement already satisfied: charset_normalizer<4,>=2 in c:\\users\\admin\\appdata\\local\\packages\\pythonsoftwarefoundation.python.3.12_qbz5n2kfra8p0\\localcache\\local-packages\\python312\\site-packages (from requests<3,>=2->langchain) (3.4.2)\n",
      "Requirement already satisfied: idna<4,>=2.5 in c:\\users\\admin\\appdata\\local\\packages\\pythonsoftwarefoundation.python.3.12_qbz5n2kfra8p0\\localcache\\local-packages\\python312\\site-packages (from requests<3,>=2->langchain) (3.10)\n",
      "Requirement already satisfied: urllib3<3,>=1.21.1 in c:\\users\\admin\\appdata\\local\\packages\\pythonsoftwarefoundation.python.3.12_qbz5n2kfra8p0\\localcache\\local-packages\\python312\\site-packages (from requests<3,>=2->langchain) (2.5.0)\n",
      "Requirement already satisfied: certifi>=2017.4.17 in c:\\users\\admin\\appdata\\local\\packages\\pythonsoftwarefoundation.python.3.12_qbz5n2kfra8p0\\localcache\\local-packages\\python312\\site-packages (from requests<3,>=2->langchain) (2025.8.3)\n",
      "Requirement already satisfied: greenlet>=1 in c:\\users\\admin\\appdata\\local\\packages\\pythonsoftwarefoundation.python.3.12_qbz5n2kfra8p0\\localcache\\local-packages\\python312\\site-packages (from SQLAlchemy<3,>=1.4->langchain) (3.2.3)\n",
      "Requirement already satisfied: httpx<1,>=0.23.0 in c:\\users\\admin\\appdata\\local\\packages\\pythonsoftwarefoundation.python.3.12_qbz5n2kfra8p0\\localcache\\local-packages\\python312\\site-packages (from langsmith>=0.1.17->langchain) (0.28.1)\n",
      "Requirement already satisfied: orjson>=3.9.14 in c:\\users\\admin\\appdata\\local\\packages\\pythonsoftwarefoundation.python.3.12_qbz5n2kfra8p0\\localcache\\local-packages\\python312\\site-packages (from langsmith>=0.1.17->langchain) (3.11.1)\n",
      "Requirement already satisfied: requests-toolbelt>=1.0.0 in c:\\users\\admin\\appdata\\local\\packages\\pythonsoftwarefoundation.python.3.12_qbz5n2kfra8p0\\localcache\\local-packages\\python312\\site-packages (from langsmith>=0.1.17->langchain) (1.0.0)\n",
      "Requirement already satisfied: zstandard>=0.23.0 in c:\\users\\admin\\appdata\\local\\packages\\pythonsoftwarefoundation.python.3.12_qbz5n2kfra8p0\\localcache\\local-packages\\python312\\site-packages (from langsmith>=0.1.17->langchain) (0.23.0)\n",
      "Requirement already satisfied: anyio in c:\\users\\admin\\appdata\\local\\packages\\pythonsoftwarefoundation.python.3.12_qbz5n2kfra8p0\\localcache\\local-packages\\python312\\site-packages (from httpx<1,>=0.23.0->langsmith>=0.1.17->langchain) (4.10.0)\n",
      "Requirement already satisfied: httpcore==1.* in c:\\users\\admin\\appdata\\local\\packages\\pythonsoftwarefoundation.python.3.12_qbz5n2kfra8p0\\localcache\\local-packages\\python312\\site-packages (from httpx<1,>=0.23.0->langsmith>=0.1.17->langchain) (1.0.9)\n",
      "Requirement already satisfied: h11>=0.16 in c:\\users\\admin\\appdata\\local\\packages\\pythonsoftwarefoundation.python.3.12_qbz5n2kfra8p0\\localcache\\local-packages\\python312\\site-packages (from httpcore==1.*->httpx<1,>=0.23.0->langsmith>=0.1.17->langchain) (0.16.0)\n",
      "Requirement already satisfied: sniffio>=1.1 in c:\\users\\admin\\appdata\\local\\packages\\pythonsoftwarefoundation.python.3.12_qbz5n2kfra8p0\\localcache\\local-packages\\python312\\site-packages (from anyio->httpx<1,>=0.23.0->langsmith>=0.1.17->langchain) (1.3.1)\n",
      "Note: you may need to restart the kernel to use updated packages.\n",
      "Defaulting to user installation because normal site-packages is not writeable\n",
      "Requirement already satisfied: langchain-community in c:\\users\\admin\\appdata\\local\\packages\\pythonsoftwarefoundation.python.3.12_qbz5n2kfra8p0\\localcache\\local-packages\\python312\\site-packages (0.3.27)\n",
      "Requirement already satisfied: langchain-core<1.0.0,>=0.3.66 in c:\\users\\admin\\appdata\\local\\packages\\pythonsoftwarefoundation.python.3.12_qbz5n2kfra8p0\\localcache\\local-packages\\python312\\site-packages (from langchain-community) (0.3.74)\n",
      "Requirement already satisfied: langchain<1.0.0,>=0.3.26 in c:\\users\\admin\\appdata\\local\\packages\\pythonsoftwarefoundation.python.3.12_qbz5n2kfra8p0\\localcache\\local-packages\\python312\\site-packages (from langchain-community) (0.3.27)\n",
      "Requirement already satisfied: SQLAlchemy<3,>=1.4 in c:\\users\\admin\\appdata\\local\\packages\\pythonsoftwarefoundation.python.3.12_qbz5n2kfra8p0\\localcache\\local-packages\\python312\\site-packages (from langchain-community) (2.0.42)\n",
      "Requirement already satisfied: requests<3,>=2 in c:\\users\\admin\\appdata\\local\\packages\\pythonsoftwarefoundation.python.3.12_qbz5n2kfra8p0\\localcache\\local-packages\\python312\\site-packages (from langchain-community) (2.32.4)\n",
      "Requirement already satisfied: PyYAML>=5.3 in c:\\users\\admin\\appdata\\local\\packages\\pythonsoftwarefoundation.python.3.12_qbz5n2kfra8p0\\localcache\\local-packages\\python312\\site-packages (from langchain-community) (6.0.2)\n",
      "Requirement already satisfied: aiohttp<4.0.0,>=3.8.3 in c:\\users\\admin\\appdata\\local\\packages\\pythonsoftwarefoundation.python.3.12_qbz5n2kfra8p0\\localcache\\local-packages\\python312\\site-packages (from langchain-community) (3.12.15)\n",
      "Requirement already satisfied: tenacity!=8.4.0,<10,>=8.1.0 in c:\\users\\admin\\appdata\\local\\packages\\pythonsoftwarefoundation.python.3.12_qbz5n2kfra8p0\\localcache\\local-packages\\python312\\site-packages (from langchain-community) (9.1.2)\n",
      "Requirement already satisfied: dataclasses-json<0.7,>=0.5.7 in c:\\users\\admin\\appdata\\local\\packages\\pythonsoftwarefoundation.python.3.12_qbz5n2kfra8p0\\localcache\\local-packages\\python312\\site-packages (from langchain-community) (0.6.7)\n",
      "Requirement already satisfied: pydantic-settings<3.0.0,>=2.4.0 in c:\\users\\admin\\appdata\\local\\packages\\pythonsoftwarefoundation.python.3.12_qbz5n2kfra8p0\\localcache\\local-packages\\python312\\site-packages (from langchain-community) (2.10.1)\n",
      "Requirement already satisfied: langsmith>=0.1.125 in c:\\users\\admin\\appdata\\local\\packages\\pythonsoftwarefoundation.python.3.12_qbz5n2kfra8p0\\localcache\\local-packages\\python312\\site-packages (from langchain-community) (0.4.10)\n",
      "Requirement already satisfied: httpx-sse<1.0.0,>=0.4.0 in c:\\users\\admin\\appdata\\local\\packages\\pythonsoftwarefoundation.python.3.12_qbz5n2kfra8p0\\localcache\\local-packages\\python312\\site-packages (from langchain-community) (0.4.1)\n",
      "Requirement already satisfied: numpy>=1.26.2 in c:\\users\\admin\\appdata\\local\\packages\\pythonsoftwarefoundation.python.3.12_qbz5n2kfra8p0\\localcache\\local-packages\\python312\\site-packages (from langchain-community) (2.2.6)\n",
      "Requirement already satisfied: aiohappyeyeballs>=2.5.0 in c:\\users\\admin\\appdata\\local\\packages\\pythonsoftwarefoundation.python.3.12_qbz5n2kfra8p0\\localcache\\local-packages\\python312\\site-packages (from aiohttp<4.0.0,>=3.8.3->langchain-community) (2.6.1)\n",
      "Requirement already satisfied: aiosignal>=1.4.0 in c:\\users\\admin\\appdata\\local\\packages\\pythonsoftwarefoundation.python.3.12_qbz5n2kfra8p0\\localcache\\local-packages\\python312\\site-packages (from aiohttp<4.0.0,>=3.8.3->langchain-community) (1.4.0)\n",
      "Requirement already satisfied: attrs>=17.3.0 in c:\\users\\admin\\appdata\\local\\packages\\pythonsoftwarefoundation.python.3.12_qbz5n2kfra8p0\\localcache\\local-packages\\python312\\site-packages (from aiohttp<4.0.0,>=3.8.3->langchain-community) (25.3.0)\n",
      "Requirement already satisfied: frozenlist>=1.1.1 in c:\\users\\admin\\appdata\\local\\packages\\pythonsoftwarefoundation.python.3.12_qbz5n2kfra8p0\\localcache\\local-packages\\python312\\site-packages (from aiohttp<4.0.0,>=3.8.3->langchain-community) (1.7.0)\n",
      "Requirement already satisfied: multidict<7.0,>=4.5 in c:\\users\\admin\\appdata\\local\\packages\\pythonsoftwarefoundation.python.3.12_qbz5n2kfra8p0\\localcache\\local-packages\\python312\\site-packages (from aiohttp<4.0.0,>=3.8.3->langchain-community) (6.6.3)\n",
      "Requirement already satisfied: propcache>=0.2.0 in c:\\users\\admin\\appdata\\local\\packages\\pythonsoftwarefoundation.python.3.12_qbz5n2kfra8p0\\localcache\\local-packages\\python312\\site-packages (from aiohttp<4.0.0,>=3.8.3->langchain-community) (0.3.2)\n",
      "Requirement already satisfied: yarl<2.0,>=1.17.0 in c:\\users\\admin\\appdata\\local\\packages\\pythonsoftwarefoundation.python.3.12_qbz5n2kfra8p0\\localcache\\local-packages\\python312\\site-packages (from aiohttp<4.0.0,>=3.8.3->langchain-community) (1.20.1)\n",
      "Requirement already satisfied: marshmallow<4.0.0,>=3.18.0 in c:\\users\\admin\\appdata\\local\\packages\\pythonsoftwarefoundation.python.3.12_qbz5n2kfra8p0\\localcache\\local-packages\\python312\\site-packages (from dataclasses-json<0.7,>=0.5.7->langchain-community) (3.26.1)\n",
      "Requirement already satisfied: typing-inspect<1,>=0.4.0 in c:\\users\\admin\\appdata\\local\\packages\\pythonsoftwarefoundation.python.3.12_qbz5n2kfra8p0\\localcache\\local-packages\\python312\\site-packages (from dataclasses-json<0.7,>=0.5.7->langchain-community) (0.9.0)\n",
      "Requirement already satisfied: langchain-text-splitters<1.0.0,>=0.3.9 in c:\\users\\admin\\appdata\\local\\packages\\pythonsoftwarefoundation.python.3.12_qbz5n2kfra8p0\\localcache\\local-packages\\python312\\site-packages (from langchain<1.0.0,>=0.3.26->langchain-community) (0.3.9)\n",
      "Requirement already satisfied: pydantic<3.0.0,>=2.7.4 in c:\\users\\admin\\appdata\\local\\packages\\pythonsoftwarefoundation.python.3.12_qbz5n2kfra8p0\\localcache\\local-packages\\python312\\site-packages (from langchain<1.0.0,>=0.3.26->langchain-community) (2.11.7)\n",
      "Requirement already satisfied: jsonpatch<2.0,>=1.33 in c:\\users\\admin\\appdata\\local\\packages\\pythonsoftwarefoundation.python.3.12_qbz5n2kfra8p0\\localcache\\local-packages\\python312\\site-packages (from langchain-core<1.0.0,>=0.3.66->langchain-community) (1.33)\n",
      "Requirement already satisfied: typing-extensions>=4.7 in c:\\users\\admin\\appdata\\local\\packages\\pythonsoftwarefoundation.python.3.12_qbz5n2kfra8p0\\localcache\\local-packages\\python312\\site-packages (from langchain-core<1.0.0,>=0.3.66->langchain-community) (4.14.1)\n",
      "Requirement already satisfied: packaging>=23.2 in c:\\users\\admin\\appdata\\local\\packages\\pythonsoftwarefoundation.python.3.12_qbz5n2kfra8p0\\localcache\\local-packages\\python312\\site-packages (from langchain-core<1.0.0,>=0.3.66->langchain-community) (24.2)\n",
      "Requirement already satisfied: jsonpointer>=1.9 in c:\\users\\admin\\appdata\\local\\packages\\pythonsoftwarefoundation.python.3.12_qbz5n2kfra8p0\\localcache\\local-packages\\python312\\site-packages (from jsonpatch<2.0,>=1.33->langchain-core<1.0.0,>=0.3.66->langchain-community) (3.0.0)\n",
      "Requirement already satisfied: annotated-types>=0.6.0 in c:\\users\\admin\\appdata\\local\\packages\\pythonsoftwarefoundation.python.3.12_qbz5n2kfra8p0\\localcache\\local-packages\\python312\\site-packages (from pydantic<3.0.0,>=2.7.4->langchain<1.0.0,>=0.3.26->langchain-community) (0.7.0)\n",
      "Requirement already satisfied: pydantic-core==2.33.2 in c:\\users\\admin\\appdata\\local\\packages\\pythonsoftwarefoundation.python.3.12_qbz5n2kfra8p0\\localcache\\local-packages\\python312\\site-packages (from pydantic<3.0.0,>=2.7.4->langchain<1.0.0,>=0.3.26->langchain-community) (2.33.2)\n",
      "Requirement already satisfied: typing-inspection>=0.4.0 in c:\\users\\admin\\appdata\\local\\packages\\pythonsoftwarefoundation.python.3.12_qbz5n2kfra8p0\\localcache\\local-packages\\python312\\site-packages (from pydantic<3.0.0,>=2.7.4->langchain<1.0.0,>=0.3.26->langchain-community) (0.4.1)\n",
      "Requirement already satisfied: python-dotenv>=0.21.0 in c:\\users\\admin\\appdata\\local\\packages\\pythonsoftwarefoundation.python.3.12_qbz5n2kfra8p0\\localcache\\local-packages\\python312\\site-packages (from pydantic-settings<3.0.0,>=2.4.0->langchain-community) (1.1.1)\n",
      "Requirement already satisfied: charset_normalizer<4,>=2 in c:\\users\\admin\\appdata\\local\\packages\\pythonsoftwarefoundation.python.3.12_qbz5n2kfra8p0\\localcache\\local-packages\\python312\\site-packages (from requests<3,>=2->langchain-community) (3.4.2)\n",
      "Requirement already satisfied: idna<4,>=2.5 in c:\\users\\admin\\appdata\\local\\packages\\pythonsoftwarefoundation.python.3.12_qbz5n2kfra8p0\\localcache\\local-packages\\python312\\site-packages (from requests<3,>=2->langchain-community) (3.10)\n",
      "Requirement already satisfied: urllib3<3,>=1.21.1 in c:\\users\\admin\\appdata\\local\\packages\\pythonsoftwarefoundation.python.3.12_qbz5n2kfra8p0\\localcache\\local-packages\\python312\\site-packages (from requests<3,>=2->langchain-community) (2.5.0)\n",
      "Requirement already satisfied: certifi>=2017.4.17 in c:\\users\\admin\\appdata\\local\\packages\\pythonsoftwarefoundation.python.3.12_qbz5n2kfra8p0\\localcache\\local-packages\\python312\\site-packages (from requests<3,>=2->langchain-community) (2025.8.3)\n",
      "Requirement already satisfied: greenlet>=1 in c:\\users\\admin\\appdata\\local\\packages\\pythonsoftwarefoundation.python.3.12_qbz5n2kfra8p0\\localcache\\local-packages\\python312\\site-packages (from SQLAlchemy<3,>=1.4->langchain-community) (3.2.3)\n",
      "Requirement already satisfied: mypy-extensions>=0.3.0 in c:\\users\\admin\\appdata\\local\\packages\\pythonsoftwarefoundation.python.3.12_qbz5n2kfra8p0\\localcache\\local-packages\\python312\\site-packages (from typing-inspect<1,>=0.4.0->dataclasses-json<0.7,>=0.5.7->langchain-community) (1.1.0)\n",
      "Requirement already satisfied: httpx<1,>=0.23.0 in c:\\users\\admin\\appdata\\local\\packages\\pythonsoftwarefoundation.python.3.12_qbz5n2kfra8p0\\localcache\\local-packages\\python312\\site-packages (from langsmith>=0.1.125->langchain-community) (0.28.1)\n",
      "Requirement already satisfied: orjson>=3.9.14 in c:\\users\\admin\\appdata\\local\\packages\\pythonsoftwarefoundation.python.3.12_qbz5n2kfra8p0\\localcache\\local-packages\\python312\\site-packages (from langsmith>=0.1.125->langchain-community) (3.11.1)\n",
      "Requirement already satisfied: requests-toolbelt>=1.0.0 in c:\\users\\admin\\appdata\\local\\packages\\pythonsoftwarefoundation.python.3.12_qbz5n2kfra8p0\\localcache\\local-packages\\python312\\site-packages (from langsmith>=0.1.125->langchain-community) (1.0.0)\n",
      "Requirement already satisfied: zstandard>=0.23.0 in c:\\users\\admin\\appdata\\local\\packages\\pythonsoftwarefoundation.python.3.12_qbz5n2kfra8p0\\localcache\\local-packages\\python312\\site-packages (from langsmith>=0.1.125->langchain-community) (0.23.0)\n",
      "Requirement already satisfied: anyio in c:\\users\\admin\\appdata\\local\\packages\\pythonsoftwarefoundation.python.3.12_qbz5n2kfra8p0\\localcache\\local-packages\\python312\\site-packages (from httpx<1,>=0.23.0->langsmith>=0.1.125->langchain-community) (4.10.0)\n",
      "Requirement already satisfied: httpcore==1.* in c:\\users\\admin\\appdata\\local\\packages\\pythonsoftwarefoundation.python.3.12_qbz5n2kfra8p0\\localcache\\local-packages\\python312\\site-packages (from httpx<1,>=0.23.0->langsmith>=0.1.125->langchain-community) (1.0.9)\n",
      "Requirement already satisfied: h11>=0.16 in c:\\users\\admin\\appdata\\local\\packages\\pythonsoftwarefoundation.python.3.12_qbz5n2kfra8p0\\localcache\\local-packages\\python312\\site-packages (from httpcore==1.*->httpx<1,>=0.23.0->langsmith>=0.1.125->langchain-community) (0.16.0)\n",
      "Requirement already satisfied: sniffio>=1.1 in c:\\users\\admin\\appdata\\local\\packages\\pythonsoftwarefoundation.python.3.12_qbz5n2kfra8p0\\localcache\\local-packages\\python312\\site-packages (from anyio->httpx<1,>=0.23.0->langsmith>=0.1.125->langchain-community) (1.3.1)\n",
      "Note: you may need to restart the kernel to use updated packages.\n",
      "Defaulting to user installation because normal site-packages is not writeable\n",
      "Requirement already satisfied: langchain-groq in c:\\users\\admin\\appdata\\local\\packages\\pythonsoftwarefoundation.python.3.12_qbz5n2kfra8p0\\localcache\\local-packages\\python312\\site-packages (0.3.7)\n",
      "Requirement already satisfied: langchain-core<1.0.0,>=0.3.72 in c:\\users\\admin\\appdata\\local\\packages\\pythonsoftwarefoundation.python.3.12_qbz5n2kfra8p0\\localcache\\local-packages\\python312\\site-packages (from langchain-groq) (0.3.74)\n",
      "Requirement already satisfied: groq<1,>=0.30.0 in c:\\users\\admin\\appdata\\local\\packages\\pythonsoftwarefoundation.python.3.12_qbz5n2kfra8p0\\localcache\\local-packages\\python312\\site-packages (from langchain-groq) (0.31.0)\n",
      "Requirement already satisfied: anyio<5,>=3.5.0 in c:\\users\\admin\\appdata\\local\\packages\\pythonsoftwarefoundation.python.3.12_qbz5n2kfra8p0\\localcache\\local-packages\\python312\\site-packages (from groq<1,>=0.30.0->langchain-groq) (4.10.0)\n",
      "Requirement already satisfied: distro<2,>=1.7.0 in c:\\users\\admin\\appdata\\local\\packages\\pythonsoftwarefoundation.python.3.12_qbz5n2kfra8p0\\localcache\\local-packages\\python312\\site-packages (from groq<1,>=0.30.0->langchain-groq) (1.9.0)\n",
      "Requirement already satisfied: httpx<1,>=0.23.0 in c:\\users\\admin\\appdata\\local\\packages\\pythonsoftwarefoundation.python.3.12_qbz5n2kfra8p0\\localcache\\local-packages\\python312\\site-packages (from groq<1,>=0.30.0->langchain-groq) (0.28.1)\n",
      "Requirement already satisfied: pydantic<3,>=1.9.0 in c:\\users\\admin\\appdata\\local\\packages\\pythonsoftwarefoundation.python.3.12_qbz5n2kfra8p0\\localcache\\local-packages\\python312\\site-packages (from groq<1,>=0.30.0->langchain-groq) (2.11.7)\n",
      "Requirement already satisfied: sniffio in c:\\users\\admin\\appdata\\local\\packages\\pythonsoftwarefoundation.python.3.12_qbz5n2kfra8p0\\localcache\\local-packages\\python312\\site-packages (from groq<1,>=0.30.0->langchain-groq) (1.3.1)\n",
      "Requirement already satisfied: typing-extensions<5,>=4.10 in c:\\users\\admin\\appdata\\local\\packages\\pythonsoftwarefoundation.python.3.12_qbz5n2kfra8p0\\localcache\\local-packages\\python312\\site-packages (from groq<1,>=0.30.0->langchain-groq) (4.14.1)\n",
      "Requirement already satisfied: idna>=2.8 in c:\\users\\admin\\appdata\\local\\packages\\pythonsoftwarefoundation.python.3.12_qbz5n2kfra8p0\\localcache\\local-packages\\python312\\site-packages (from anyio<5,>=3.5.0->groq<1,>=0.30.0->langchain-groq) (3.10)\n",
      "Requirement already satisfied: certifi in c:\\users\\admin\\appdata\\local\\packages\\pythonsoftwarefoundation.python.3.12_qbz5n2kfra8p0\\localcache\\local-packages\\python312\\site-packages (from httpx<1,>=0.23.0->groq<1,>=0.30.0->langchain-groq) (2025.8.3)\n",
      "Requirement already satisfied: httpcore==1.* in c:\\users\\admin\\appdata\\local\\packages\\pythonsoftwarefoundation.python.3.12_qbz5n2kfra8p0\\localcache\\local-packages\\python312\\site-packages (from httpx<1,>=0.23.0->groq<1,>=0.30.0->langchain-groq) (1.0.9)\n",
      "Requirement already satisfied: h11>=0.16 in c:\\users\\admin\\appdata\\local\\packages\\pythonsoftwarefoundation.python.3.12_qbz5n2kfra8p0\\localcache\\local-packages\\python312\\site-packages (from httpcore==1.*->httpx<1,>=0.23.0->groq<1,>=0.30.0->langchain-groq) (0.16.0)\n",
      "Requirement already satisfied: langsmith>=0.3.45 in c:\\users\\admin\\appdata\\local\\packages\\pythonsoftwarefoundation.python.3.12_qbz5n2kfra8p0\\localcache\\local-packages\\python312\\site-packages (from langchain-core<1.0.0,>=0.3.72->langchain-groq) (0.4.10)\n",
      "Requirement already satisfied: tenacity!=8.4.0,<10.0.0,>=8.1.0 in c:\\users\\admin\\appdata\\local\\packages\\pythonsoftwarefoundation.python.3.12_qbz5n2kfra8p0\\localcache\\local-packages\\python312\\site-packages (from langchain-core<1.0.0,>=0.3.72->langchain-groq) (9.1.2)\n",
      "Requirement already satisfied: jsonpatch<2.0,>=1.33 in c:\\users\\admin\\appdata\\local\\packages\\pythonsoftwarefoundation.python.3.12_qbz5n2kfra8p0\\localcache\\local-packages\\python312\\site-packages (from langchain-core<1.0.0,>=0.3.72->langchain-groq) (1.33)\n",
      "Requirement already satisfied: PyYAML>=5.3 in c:\\users\\admin\\appdata\\local\\packages\\pythonsoftwarefoundation.python.3.12_qbz5n2kfra8p0\\localcache\\local-packages\\python312\\site-packages (from langchain-core<1.0.0,>=0.3.72->langchain-groq) (6.0.2)\n",
      "Requirement already satisfied: packaging>=23.2 in c:\\users\\admin\\appdata\\local\\packages\\pythonsoftwarefoundation.python.3.12_qbz5n2kfra8p0\\localcache\\local-packages\\python312\\site-packages (from langchain-core<1.0.0,>=0.3.72->langchain-groq) (24.2)\n",
      "Requirement already satisfied: jsonpointer>=1.9 in c:\\users\\admin\\appdata\\local\\packages\\pythonsoftwarefoundation.python.3.12_qbz5n2kfra8p0\\localcache\\local-packages\\python312\\site-packages (from jsonpatch<2.0,>=1.33->langchain-core<1.0.0,>=0.3.72->langchain-groq) (3.0.0)\n",
      "Requirement already satisfied: annotated-types>=0.6.0 in c:\\users\\admin\\appdata\\local\\packages\\pythonsoftwarefoundation.python.3.12_qbz5n2kfra8p0\\localcache\\local-packages\\python312\\site-packages (from pydantic<3,>=1.9.0->groq<1,>=0.30.0->langchain-groq) (0.7.0)\n",
      "Requirement already satisfied: pydantic-core==2.33.2 in c:\\users\\admin\\appdata\\local\\packages\\pythonsoftwarefoundation.python.3.12_qbz5n2kfra8p0\\localcache\\local-packages\\python312\\site-packages (from pydantic<3,>=1.9.0->groq<1,>=0.30.0->langchain-groq) (2.33.2)\n",
      "Requirement already satisfied: typing-inspection>=0.4.0 in c:\\users\\admin\\appdata\\local\\packages\\pythonsoftwarefoundation.python.3.12_qbz5n2kfra8p0\\localcache\\local-packages\\python312\\site-packages (from pydantic<3,>=1.9.0->groq<1,>=0.30.0->langchain-groq) (0.4.1)\n",
      "Requirement already satisfied: orjson>=3.9.14 in c:\\users\\admin\\appdata\\local\\packages\\pythonsoftwarefoundation.python.3.12_qbz5n2kfra8p0\\localcache\\local-packages\\python312\\site-packages (from langsmith>=0.3.45->langchain-core<1.0.0,>=0.3.72->langchain-groq) (3.11.1)\n",
      "Requirement already satisfied: requests-toolbelt>=1.0.0 in c:\\users\\admin\\appdata\\local\\packages\\pythonsoftwarefoundation.python.3.12_qbz5n2kfra8p0\\localcache\\local-packages\\python312\\site-packages (from langsmith>=0.3.45->langchain-core<1.0.0,>=0.3.72->langchain-groq) (1.0.0)\n",
      "Requirement already satisfied: requests>=2.0.0 in c:\\users\\admin\\appdata\\local\\packages\\pythonsoftwarefoundation.python.3.12_qbz5n2kfra8p0\\localcache\\local-packages\\python312\\site-packages (from langsmith>=0.3.45->langchain-core<1.0.0,>=0.3.72->langchain-groq) (2.32.4)\n",
      "Requirement already satisfied: zstandard>=0.23.0 in c:\\users\\admin\\appdata\\local\\packages\\pythonsoftwarefoundation.python.3.12_qbz5n2kfra8p0\\localcache\\local-packages\\python312\\site-packages (from langsmith>=0.3.45->langchain-core<1.0.0,>=0.3.72->langchain-groq) (0.23.0)\n",
      "Requirement already satisfied: charset_normalizer<4,>=2 in c:\\users\\admin\\appdata\\local\\packages\\pythonsoftwarefoundation.python.3.12_qbz5n2kfra8p0\\localcache\\local-packages\\python312\\site-packages (from requests>=2.0.0->langsmith>=0.3.45->langchain-core<1.0.0,>=0.3.72->langchain-groq) (3.4.2)\n",
      "Requirement already satisfied: urllib3<3,>=1.21.1 in c:\\users\\admin\\appdata\\local\\packages\\pythonsoftwarefoundation.python.3.12_qbz5n2kfra8p0\\localcache\\local-packages\\python312\\site-packages (from requests>=2.0.0->langsmith>=0.3.45->langchain-core<1.0.0,>=0.3.72->langchain-groq) (2.5.0)\n",
      "Note: you may need to restart the kernel to use updated packages.\n",
      "Defaulting to user installation because normal site-packages is not writeable\n",
      "Requirement already satisfied: langchain-huggingface in c:\\users\\admin\\appdata\\local\\packages\\pythonsoftwarefoundation.python.3.12_qbz5n2kfra8p0\\localcache\\local-packages\\python312\\site-packages (0.3.1)\n",
      "Requirement already satisfied: langchain-core<1.0.0,>=0.3.70 in c:\\users\\admin\\appdata\\local\\packages\\pythonsoftwarefoundation.python.3.12_qbz5n2kfra8p0\\localcache\\local-packages\\python312\\site-packages (from langchain-huggingface) (0.3.74)\n",
      "Requirement already satisfied: tokenizers>=0.19.1 in c:\\users\\admin\\appdata\\local\\packages\\pythonsoftwarefoundation.python.3.12_qbz5n2kfra8p0\\localcache\\local-packages\\python312\\site-packages (from langchain-huggingface) (0.21.4)\n",
      "Requirement already satisfied: huggingface-hub>=0.33.4 in c:\\users\\admin\\appdata\\local\\packages\\pythonsoftwarefoundation.python.3.12_qbz5n2kfra8p0\\localcache\\local-packages\\python312\\site-packages (from langchain-huggingface) (0.34.4)\n",
      "Requirement already satisfied: langsmith>=0.3.45 in c:\\users\\admin\\appdata\\local\\packages\\pythonsoftwarefoundation.python.3.12_qbz5n2kfra8p0\\localcache\\local-packages\\python312\\site-packages (from langchain-core<1.0.0,>=0.3.70->langchain-huggingface) (0.4.10)\n",
      "Requirement already satisfied: tenacity!=8.4.0,<10.0.0,>=8.1.0 in c:\\users\\admin\\appdata\\local\\packages\\pythonsoftwarefoundation.python.3.12_qbz5n2kfra8p0\\localcache\\local-packages\\python312\\site-packages (from langchain-core<1.0.0,>=0.3.70->langchain-huggingface) (9.1.2)\n",
      "Requirement already satisfied: jsonpatch<2.0,>=1.33 in c:\\users\\admin\\appdata\\local\\packages\\pythonsoftwarefoundation.python.3.12_qbz5n2kfra8p0\\localcache\\local-packages\\python312\\site-packages (from langchain-core<1.0.0,>=0.3.70->langchain-huggingface) (1.33)\n",
      "Requirement already satisfied: PyYAML>=5.3 in c:\\users\\admin\\appdata\\local\\packages\\pythonsoftwarefoundation.python.3.12_qbz5n2kfra8p0\\localcache\\local-packages\\python312\\site-packages (from langchain-core<1.0.0,>=0.3.70->langchain-huggingface) (6.0.2)\n",
      "Requirement already satisfied: typing-extensions>=4.7 in c:\\users\\admin\\appdata\\local\\packages\\pythonsoftwarefoundation.python.3.12_qbz5n2kfra8p0\\localcache\\local-packages\\python312\\site-packages (from langchain-core<1.0.0,>=0.3.70->langchain-huggingface) (4.14.1)\n",
      "Requirement already satisfied: packaging>=23.2 in c:\\users\\admin\\appdata\\local\\packages\\pythonsoftwarefoundation.python.3.12_qbz5n2kfra8p0\\localcache\\local-packages\\python312\\site-packages (from langchain-core<1.0.0,>=0.3.70->langchain-huggingface) (24.2)\n",
      "Requirement already satisfied: pydantic>=2.7.4 in c:\\users\\admin\\appdata\\local\\packages\\pythonsoftwarefoundation.python.3.12_qbz5n2kfra8p0\\localcache\\local-packages\\python312\\site-packages (from langchain-core<1.0.0,>=0.3.70->langchain-huggingface) (2.11.7)\n",
      "Requirement already satisfied: jsonpointer>=1.9 in c:\\users\\admin\\appdata\\local\\packages\\pythonsoftwarefoundation.python.3.12_qbz5n2kfra8p0\\localcache\\local-packages\\python312\\site-packages (from jsonpatch<2.0,>=1.33->langchain-core<1.0.0,>=0.3.70->langchain-huggingface) (3.0.0)\n",
      "Requirement already satisfied: filelock in c:\\users\\admin\\appdata\\local\\packages\\pythonsoftwarefoundation.python.3.12_qbz5n2kfra8p0\\localcache\\local-packages\\python312\\site-packages (from huggingface-hub>=0.33.4->langchain-huggingface) (3.18.0)\n",
      "Requirement already satisfied: fsspec>=2023.5.0 in c:\\users\\admin\\appdata\\local\\packages\\pythonsoftwarefoundation.python.3.12_qbz5n2kfra8p0\\localcache\\local-packages\\python312\\site-packages (from huggingface-hub>=0.33.4->langchain-huggingface) (2025.3.0)\n",
      "Requirement already satisfied: requests in c:\\users\\admin\\appdata\\local\\packages\\pythonsoftwarefoundation.python.3.12_qbz5n2kfra8p0\\localcache\\local-packages\\python312\\site-packages (from huggingface-hub>=0.33.4->langchain-huggingface) (2.32.4)\n",
      "Requirement already satisfied: tqdm>=4.42.1 in c:\\users\\admin\\appdata\\local\\packages\\pythonsoftwarefoundation.python.3.12_qbz5n2kfra8p0\\localcache\\local-packages\\python312\\site-packages (from huggingface-hub>=0.33.4->langchain-huggingface) (4.67.1)\n",
      "Requirement already satisfied: httpx<1,>=0.23.0 in c:\\users\\admin\\appdata\\local\\packages\\pythonsoftwarefoundation.python.3.12_qbz5n2kfra8p0\\localcache\\local-packages\\python312\\site-packages (from langsmith>=0.3.45->langchain-core<1.0.0,>=0.3.70->langchain-huggingface) (0.28.1)\n",
      "Requirement already satisfied: orjson>=3.9.14 in c:\\users\\admin\\appdata\\local\\packages\\pythonsoftwarefoundation.python.3.12_qbz5n2kfra8p0\\localcache\\local-packages\\python312\\site-packages (from langsmith>=0.3.45->langchain-core<1.0.0,>=0.3.70->langchain-huggingface) (3.11.1)\n",
      "Requirement already satisfied: requests-toolbelt>=1.0.0 in c:\\users\\admin\\appdata\\local\\packages\\pythonsoftwarefoundation.python.3.12_qbz5n2kfra8p0\\localcache\\local-packages\\python312\\site-packages (from langsmith>=0.3.45->langchain-core<1.0.0,>=0.3.70->langchain-huggingface) (1.0.0)\n",
      "Requirement already satisfied: zstandard>=0.23.0 in c:\\users\\admin\\appdata\\local\\packages\\pythonsoftwarefoundation.python.3.12_qbz5n2kfra8p0\\localcache\\local-packages\\python312\\site-packages (from langsmith>=0.3.45->langchain-core<1.0.0,>=0.3.70->langchain-huggingface) (0.23.0)\n",
      "Requirement already satisfied: anyio in c:\\users\\admin\\appdata\\local\\packages\\pythonsoftwarefoundation.python.3.12_qbz5n2kfra8p0\\localcache\\local-packages\\python312\\site-packages (from httpx<1,>=0.23.0->langsmith>=0.3.45->langchain-core<1.0.0,>=0.3.70->langchain-huggingface) (4.10.0)\n",
      "Requirement already satisfied: certifi in c:\\users\\admin\\appdata\\local\\packages\\pythonsoftwarefoundation.python.3.12_qbz5n2kfra8p0\\localcache\\local-packages\\python312\\site-packages (from httpx<1,>=0.23.0->langsmith>=0.3.45->langchain-core<1.0.0,>=0.3.70->langchain-huggingface) (2025.8.3)\n",
      "Requirement already satisfied: httpcore==1.* in c:\\users\\admin\\appdata\\local\\packages\\pythonsoftwarefoundation.python.3.12_qbz5n2kfra8p0\\localcache\\local-packages\\python312\\site-packages (from httpx<1,>=0.23.0->langsmith>=0.3.45->langchain-core<1.0.0,>=0.3.70->langchain-huggingface) (1.0.9)\n",
      "Requirement already satisfied: idna in c:\\users\\admin\\appdata\\local\\packages\\pythonsoftwarefoundation.python.3.12_qbz5n2kfra8p0\\localcache\\local-packages\\python312\\site-packages (from httpx<1,>=0.23.0->langsmith>=0.3.45->langchain-core<1.0.0,>=0.3.70->langchain-huggingface) (3.10)\n",
      "Requirement already satisfied: h11>=0.16 in c:\\users\\admin\\appdata\\local\\packages\\pythonsoftwarefoundation.python.3.12_qbz5n2kfra8p0\\localcache\\local-packages\\python312\\site-packages (from httpcore==1.*->httpx<1,>=0.23.0->langsmith>=0.3.45->langchain-core<1.0.0,>=0.3.70->langchain-huggingface) (0.16.0)\n",
      "Requirement already satisfied: annotated-types>=0.6.0 in c:\\users\\admin\\appdata\\local\\packages\\pythonsoftwarefoundation.python.3.12_qbz5n2kfra8p0\\localcache\\local-packages\\python312\\site-packages (from pydantic>=2.7.4->langchain-core<1.0.0,>=0.3.70->langchain-huggingface) (0.7.0)\n",
      "Requirement already satisfied: pydantic-core==2.33.2 in c:\\users\\admin\\appdata\\local\\packages\\pythonsoftwarefoundation.python.3.12_qbz5n2kfra8p0\\localcache\\local-packages\\python312\\site-packages (from pydantic>=2.7.4->langchain-core<1.0.0,>=0.3.70->langchain-huggingface) (2.33.2)\n",
      "Requirement already satisfied: typing-inspection>=0.4.0 in c:\\users\\admin\\appdata\\local\\packages\\pythonsoftwarefoundation.python.3.12_qbz5n2kfra8p0\\localcache\\local-packages\\python312\\site-packages (from pydantic>=2.7.4->langchain-core<1.0.0,>=0.3.70->langchain-huggingface) (0.4.1)\n",
      "Requirement already satisfied: charset_normalizer<4,>=2 in c:\\users\\admin\\appdata\\local\\packages\\pythonsoftwarefoundation.python.3.12_qbz5n2kfra8p0\\localcache\\local-packages\\python312\\site-packages (from requests->huggingface-hub>=0.33.4->langchain-huggingface) (3.4.2)\n",
      "Requirement already satisfied: urllib3<3,>=1.21.1 in c:\\users\\admin\\appdata\\local\\packages\\pythonsoftwarefoundation.python.3.12_qbz5n2kfra8p0\\localcache\\local-packages\\python312\\site-packages (from requests->huggingface-hub>=0.33.4->langchain-huggingface) (2.5.0)\n",
      "Requirement already satisfied: colorama in c:\\users\\admin\\appdata\\local\\packages\\pythonsoftwarefoundation.python.3.12_qbz5n2kfra8p0\\localcache\\local-packages\\python312\\site-packages (from tqdm>=4.42.1->huggingface-hub>=0.33.4->langchain-huggingface) (0.4.6)\n",
      "Requirement already satisfied: sniffio>=1.1 in c:\\users\\admin\\appdata\\local\\packages\\pythonsoftwarefoundation.python.3.12_qbz5n2kfra8p0\\localcache\\local-packages\\python312\\site-packages (from anyio->httpx<1,>=0.23.0->langsmith>=0.3.45->langchain-core<1.0.0,>=0.3.70->langchain-huggingface) (1.3.1)\n",
      "Note: you may need to restart the kernel to use updated packages.\n",
      "Defaulting to user installation because normal site-packages is not writeable\n",
      "Requirement already satisfied: langgraph in c:\\users\\admin\\appdata\\local\\packages\\pythonsoftwarefoundation.python.3.12_qbz5n2kfra8p0\\localcache\\local-packages\\python312\\site-packages (0.6.4)\n",
      "Requirement already satisfied: langchain-core>=0.1 in c:\\users\\admin\\appdata\\local\\packages\\pythonsoftwarefoundation.python.3.12_qbz5n2kfra8p0\\localcache\\local-packages\\python312\\site-packages (from langgraph) (0.3.74)\n",
      "Requirement already satisfied: langgraph-checkpoint<3.0.0,>=2.1.0 in c:\\users\\admin\\appdata\\local\\packages\\pythonsoftwarefoundation.python.3.12_qbz5n2kfra8p0\\localcache\\local-packages\\python312\\site-packages (from langgraph) (2.1.1)\n",
      "Requirement already satisfied: langgraph-prebuilt<0.7.0,>=0.6.0 in c:\\users\\admin\\appdata\\local\\packages\\pythonsoftwarefoundation.python.3.12_qbz5n2kfra8p0\\localcache\\local-packages\\python312\\site-packages (from langgraph) (0.6.4)\n",
      "Requirement already satisfied: langgraph-sdk<0.3.0,>=0.2.0 in c:\\users\\admin\\appdata\\local\\packages\\pythonsoftwarefoundation.python.3.12_qbz5n2kfra8p0\\localcache\\local-packages\\python312\\site-packages (from langgraph) (0.2.0)\n",
      "Requirement already satisfied: pydantic>=2.7.4 in c:\\users\\admin\\appdata\\local\\packages\\pythonsoftwarefoundation.python.3.12_qbz5n2kfra8p0\\localcache\\local-packages\\python312\\site-packages (from langgraph) (2.11.7)\n",
      "Requirement already satisfied: xxhash>=3.5.0 in c:\\users\\admin\\appdata\\local\\packages\\pythonsoftwarefoundation.python.3.12_qbz5n2kfra8p0\\localcache\\local-packages\\python312\\site-packages (from langgraph) (3.5.0)\n",
      "Requirement already satisfied: ormsgpack>=1.10.0 in c:\\users\\admin\\appdata\\local\\packages\\pythonsoftwarefoundation.python.3.12_qbz5n2kfra8p0\\localcache\\local-packages\\python312\\site-packages (from langgraph-checkpoint<3.0.0,>=2.1.0->langgraph) (1.10.0)\n",
      "Requirement already satisfied: httpx>=0.25.2 in c:\\users\\admin\\appdata\\local\\packages\\pythonsoftwarefoundation.python.3.12_qbz5n2kfra8p0\\localcache\\local-packages\\python312\\site-packages (from langgraph-sdk<0.3.0,>=0.2.0->langgraph) (0.28.1)\n",
      "Requirement already satisfied: orjson>=3.10.1 in c:\\users\\admin\\appdata\\local\\packages\\pythonsoftwarefoundation.python.3.12_qbz5n2kfra8p0\\localcache\\local-packages\\python312\\site-packages (from langgraph-sdk<0.3.0,>=0.2.0->langgraph) (3.11.1)\n",
      "Requirement already satisfied: anyio in c:\\users\\admin\\appdata\\local\\packages\\pythonsoftwarefoundation.python.3.12_qbz5n2kfra8p0\\localcache\\local-packages\\python312\\site-packages (from httpx>=0.25.2->langgraph-sdk<0.3.0,>=0.2.0->langgraph) (4.10.0)\n",
      "Requirement already satisfied: certifi in c:\\users\\admin\\appdata\\local\\packages\\pythonsoftwarefoundation.python.3.12_qbz5n2kfra8p0\\localcache\\local-packages\\python312\\site-packages (from httpx>=0.25.2->langgraph-sdk<0.3.0,>=0.2.0->langgraph) (2025.8.3)\n",
      "Requirement already satisfied: httpcore==1.* in c:\\users\\admin\\appdata\\local\\packages\\pythonsoftwarefoundation.python.3.12_qbz5n2kfra8p0\\localcache\\local-packages\\python312\\site-packages (from httpx>=0.25.2->langgraph-sdk<0.3.0,>=0.2.0->langgraph) (1.0.9)\n",
      "Requirement already satisfied: idna in c:\\users\\admin\\appdata\\local\\packages\\pythonsoftwarefoundation.python.3.12_qbz5n2kfra8p0\\localcache\\local-packages\\python312\\site-packages (from httpx>=0.25.2->langgraph-sdk<0.3.0,>=0.2.0->langgraph) (3.10)\n",
      "Requirement already satisfied: h11>=0.16 in c:\\users\\admin\\appdata\\local\\packages\\pythonsoftwarefoundation.python.3.12_qbz5n2kfra8p0\\localcache\\local-packages\\python312\\site-packages (from httpcore==1.*->httpx>=0.25.2->langgraph-sdk<0.3.0,>=0.2.0->langgraph) (0.16.0)\n",
      "Requirement already satisfied: langsmith>=0.3.45 in c:\\users\\admin\\appdata\\local\\packages\\pythonsoftwarefoundation.python.3.12_qbz5n2kfra8p0\\localcache\\local-packages\\python312\\site-packages (from langchain-core>=0.1->langgraph) (0.4.10)\n",
      "Requirement already satisfied: tenacity!=8.4.0,<10.0.0,>=8.1.0 in c:\\users\\admin\\appdata\\local\\packages\\pythonsoftwarefoundation.python.3.12_qbz5n2kfra8p0\\localcache\\local-packages\\python312\\site-packages (from langchain-core>=0.1->langgraph) (9.1.2)\n",
      "Requirement already satisfied: jsonpatch<2.0,>=1.33 in c:\\users\\admin\\appdata\\local\\packages\\pythonsoftwarefoundation.python.3.12_qbz5n2kfra8p0\\localcache\\local-packages\\python312\\site-packages (from langchain-core>=0.1->langgraph) (1.33)\n",
      "Requirement already satisfied: PyYAML>=5.3 in c:\\users\\admin\\appdata\\local\\packages\\pythonsoftwarefoundation.python.3.12_qbz5n2kfra8p0\\localcache\\local-packages\\python312\\site-packages (from langchain-core>=0.1->langgraph) (6.0.2)\n",
      "Requirement already satisfied: typing-extensions>=4.7 in c:\\users\\admin\\appdata\\local\\packages\\pythonsoftwarefoundation.python.3.12_qbz5n2kfra8p0\\localcache\\local-packages\\python312\\site-packages (from langchain-core>=0.1->langgraph) (4.14.1)\n",
      "Requirement already satisfied: packaging>=23.2 in c:\\users\\admin\\appdata\\local\\packages\\pythonsoftwarefoundation.python.3.12_qbz5n2kfra8p0\\localcache\\local-packages\\python312\\site-packages (from langchain-core>=0.1->langgraph) (24.2)\n",
      "Requirement already satisfied: jsonpointer>=1.9 in c:\\users\\admin\\appdata\\local\\packages\\pythonsoftwarefoundation.python.3.12_qbz5n2kfra8p0\\localcache\\local-packages\\python312\\site-packages (from jsonpatch<2.0,>=1.33->langchain-core>=0.1->langgraph) (3.0.0)\n",
      "Requirement already satisfied: requests-toolbelt>=1.0.0 in c:\\users\\admin\\appdata\\local\\packages\\pythonsoftwarefoundation.python.3.12_qbz5n2kfra8p0\\localcache\\local-packages\\python312\\site-packages (from langsmith>=0.3.45->langchain-core>=0.1->langgraph) (1.0.0)\n",
      "Requirement already satisfied: requests>=2.0.0 in c:\\users\\admin\\appdata\\local\\packages\\pythonsoftwarefoundation.python.3.12_qbz5n2kfra8p0\\localcache\\local-packages\\python312\\site-packages (from langsmith>=0.3.45->langchain-core>=0.1->langgraph) (2.32.4)\n",
      "Requirement already satisfied: zstandard>=0.23.0 in c:\\users\\admin\\appdata\\local\\packages\\pythonsoftwarefoundation.python.3.12_qbz5n2kfra8p0\\localcache\\local-packages\\python312\\site-packages (from langsmith>=0.3.45->langchain-core>=0.1->langgraph) (0.23.0)\n",
      "Requirement already satisfied: annotated-types>=0.6.0 in c:\\users\\admin\\appdata\\local\\packages\\pythonsoftwarefoundation.python.3.12_qbz5n2kfra8p0\\localcache\\local-packages\\python312\\site-packages (from pydantic>=2.7.4->langgraph) (0.7.0)\n",
      "Requirement already satisfied: pydantic-core==2.33.2 in c:\\users\\admin\\appdata\\local\\packages\\pythonsoftwarefoundation.python.3.12_qbz5n2kfra8p0\\localcache\\local-packages\\python312\\site-packages (from pydantic>=2.7.4->langgraph) (2.33.2)\n",
      "Requirement already satisfied: typing-inspection>=0.4.0 in c:\\users\\admin\\appdata\\local\\packages\\pythonsoftwarefoundation.python.3.12_qbz5n2kfra8p0\\localcache\\local-packages\\python312\\site-packages (from pydantic>=2.7.4->langgraph) (0.4.1)\n",
      "Requirement already satisfied: charset_normalizer<4,>=2 in c:\\users\\admin\\appdata\\local\\packages\\pythonsoftwarefoundation.python.3.12_qbz5n2kfra8p0\\localcache\\local-packages\\python312\\site-packages (from requests>=2.0.0->langsmith>=0.3.45->langchain-core>=0.1->langgraph) (3.4.2)\n",
      "Requirement already satisfied: urllib3<3,>=1.21.1 in c:\\users\\admin\\appdata\\local\\packages\\pythonsoftwarefoundation.python.3.12_qbz5n2kfra8p0\\localcache\\local-packages\\python312\\site-packages (from requests>=2.0.0->langsmith>=0.3.45->langchain-core>=0.1->langgraph) (2.5.0)\n",
      "Requirement already satisfied: sniffio>=1.1 in c:\\users\\admin\\appdata\\local\\packages\\pythonsoftwarefoundation.python.3.12_qbz5n2kfra8p0\\localcache\\local-packages\\python312\\site-packages (from anyio->httpx>=0.25.2->langgraph-sdk<0.3.0,>=0.2.0->langgraph) (1.3.1)\n",
      "Note: you may need to restart the kernel to use updated packages.\n"
     ]
    }
   ],
   "source": [
    "%pip install -qU pypdf\n",
    "%pip install -U langchain\n",
    "%pip install -U langchain-community\n",
    "%pip install -U langchain-groq\n",
    "%pip install langchain-huggingface\n",
    "%pip install langgraph"
   ]
  },
  {
   "cell_type": "code",
   "execution_count": 417,
   "id": "ef22891b",
   "metadata": {},
   "outputs": [],
   "source": [
    "from langchain_groq import ChatGroq\n",
    "from langchain_ollama import ChatOllama"
   ]
  },
  {
   "cell_type": "code",
   "execution_count": 418,
   "id": "d41be036",
   "metadata": {},
   "outputs": [],
   "source": [
    "llm = ChatOllama(model=\"mistral\")"
   ]
  },
  {
   "cell_type": "code",
   "execution_count": 419,
   "id": "cd051d58",
   "metadata": {},
   "outputs": [],
   "source": [
    "from IPython.display import display, Markdown"
   ]
  },
  {
   "cell_type": "code",
   "execution_count": 420,
   "id": "27e3bba5",
   "metadata": {},
   "outputs": [],
   "source": [
    "prompt = ''' \n",
    "    messages: Segundo a NASA quais seriam os benefícios cientificos de ir para marte\n",
    "'''"
   ]
  },
  {
   "cell_type": "code",
   "execution_count": 421,
   "id": "16f58404",
   "metadata": {},
   "outputs": [],
   "source": [
    "resposta = llm.invoke(prompt)"
   ]
  },
  {
   "cell_type": "code",
   "execution_count": 422,
   "id": "9201105b",
   "metadata": {},
   "outputs": [
    {
     "name": "stdout",
     "output_type": "stream",
     "text": [
      "content=' De acordo com a NASA, ir para Marte traria inúmeros benefícios científicos. Algumas vantagens que podem se esperar incluem:\\n\\n1. Avaliação da origem da vida: Marte é considerado\n",
      "um candidato promissor no busca pela existência de vida extraterrestre, já que a planetologia sugere que o planeta possuía água líquida em seu passado. O estudo do solo marciano poderia\n",
      "fornecer evidências sobre se Marte alguma vez apresentou condições habitáveis para o desenvolvimento de vida, ou ainda pode ser um local interessante para a busca por vida extraterrestre\n",
      "atual.\\n\\n2. Avaliação da história climática: O estudo do clima marciano no passado e presente pode fornecer informações importantes sobre como o planeta se adaptou ao longo dos anos,\n",
      "incluindo mudanças na composição atmosférica, a presença ou ausência de água líquida e o papel da vida na evolução do clima.\\n\\n3. Avaliação geológica: O estudo da geologia marciana pode\n",
      "fornecer informações importantes sobre os processos geológicos que acontecem em um planeta rochoso, como movimentos de placas tectônicas, vulcanismo e impactos meteoríticos. Esses dados\n",
      "podem ser aplicados à nossa própria Terra para melhor compreender o funcionamento do sistema terrestre.\\n\\n4. Avaliação da história evolutiva: O estudo da geologia marciana pode fornecer\n",
      "informações sobre a história evolutiva do planeta, incluindo as mudanças na composição química e física do solo ao longo dos anos e o papel que essas mudanças tiveram na evolução da vida em\n",
      "Marte.\\n\\n5. Avaliação de recursos extraterrestres: O estudo de Marte pode nos ajudar a entender os recursos minerais disponíveis no espaço além da Terra. Por exemplo, o solo marciano é rico\n",
      "em ferro e outros minerais importantes que podem ser explorados para fins industriais no futuro.\\n\\n6. Avaliação de saúde humana em longas missões espaciais: Missões para Marte fornecerão\n",
      "informações importantes sobre como as pessoas se adaptam aos ambientes hostis e à estresse causado por longas missões espaciais. Essas informações podem ser usadas para melhorar as técnicas\n",
      "de suporte vital e para criar melhores condições de vida em espaçonaves futuras.\\n\\n7. Avaliação da tecnologia necessária para uma colonização humana: Missões para Marte fornecerão\n",
      "informações sobre a tecnologia que será necessária para um estabelecimento humano no planeta, incluindo as necessidades de energia, água e recursos minerais, além das técnicas de comunicação\n",
      "com a Terra. Essas informações podem ser usadas para planejar missões futuras e eventuais colonizações humanas em outros planetas.\\n\\nEm suma, as missões para Marte trariam inúmeros\n",
      "benefícios científicos que poderiam avançar nossa compreensão do mundo exterior e contribuir para a exploração espacial humana.' additional_kwargs={} response_metadata={'model': 'mistral',\n",
      "'created_at': '2025-08-18T14:16:53.9037079Z', 'done': True, 'done_reason': 'stop', 'total_duration': 23875111600, 'load_duration': 6745900, 'prompt_eval_count': 31, 'prompt_eval_duration':\n",
      "180815500, 'eval_count': 841, 'eval_duration': 23683319500, 'model_name': 'mistral'} id='run--371af436-d1d0-40e7-b932-d87ead7e0eca-0' usage_metadata={'input_tokens': 31, 'output_tokens':\n",
      "841, 'total_tokens': 872}\n"
     ]
    }
   ],
   "source": [
    "import textwrap\n",
    "\n",
    "print(textwrap.fill(str(resposta), width=190))\n"
   ]
  },
  {
   "cell_type": "code",
   "execution_count": 423,
   "id": "cbffa99d",
   "metadata": {},
   "outputs": [],
   "source": [
    "url = 'NASA.pdf'"
   ]
  },
  {
   "cell_type": "code",
   "execution_count": 424,
   "id": "a9014c85",
   "metadata": {},
   "outputs": [],
   "source": [
    "from langchain_community.document_loaders import PyPDFLoader\n",
    "\n",
    "loader = PyPDFLoader(url)\n",
    "pages = []\n",
    "for page in loader.lazy_load():\n",
    "    pages.append(page)"
   ]
  },
  {
   "cell_type": "code",
   "execution_count": 425,
   "id": "abd2fcf8",
   "metadata": {},
   "outputs": [
    {
     "name": "stdout",
     "output_type": "stream",
     "text": [
      "{'producer': 'Adobe PDF Library 17.0', 'creator': 'Adobe InDesign 18.2 (Windows)', 'creationdate': '2023-04-06T17:28:28-04:00', 'moddate': '2023-04-06T17:29:25-04:00', 'trapped': '/False', 'source': 'NASA.pdf', 'total_pages': 78, 'page': 0, 'page_label': '1'}\n",
      "\n"
     ]
    }
   ],
   "source": [
    "print(f\"{pages[0].metadata}\\n\")"
   ]
  },
  {
   "cell_type": "code",
   "execution_count": 426,
   "id": "c07d09f8",
   "metadata": {},
   "outputs": [
    {
     "name": "stdout",
     "output_type": "stream",
     "text": [
      "NASA’S \n",
      "MOON TO MARS \n",
      "STRATEGY AND \n",
      "OBJECTIVES \n",
      "DEVELOPMENT\n",
      "A blueprint for sustained \n",
      "human presence and \n",
      "exploration throughout \n",
      "the Solar System\n",
      "National Aeronautics and\n",
      "Space Administration\n"
     ]
    }
   ],
   "source": [
    "print(pages[0].page_content)"
   ]
  },
  {
   "cell_type": "code",
   "execution_count": 427,
   "id": "2ba44168",
   "metadata": {},
   "outputs": [],
   "source": [
    "from langchain_core.vectorstores import InMemoryVectorStore\n",
    "from langchain_huggingface import HuggingFaceEmbeddings"
   ]
  },
  {
   "cell_type": "code",
   "execution_count": 428,
   "id": "17696d64",
   "metadata": {},
   "outputs": [],
   "source": [
    "embed_model = HuggingFaceEmbeddings(model_name=\"mixedbread-ai/mxbai-embed-large-v1\")"
   ]
  },
  {
   "cell_type": "code",
   "execution_count": 429,
   "id": "c2af8489",
   "metadata": {},
   "outputs": [],
   "source": [
    "vector_store = InMemoryVectorStore.from_documents(pages,embed_model)"
   ]
  },
  {
   "cell_type": "code",
   "execution_count": 430,
   "id": "5f0f6f9f",
   "metadata": {},
   "outputs": [],
   "source": [
    "docs = vector_store.similarity_search(\"Objectives Development Process\", k=2)"
   ]
  },
  {
   "cell_type": "code",
   "execution_count": 431,
   "id": "334f2ecc",
   "metadata": {},
   "outputs": [
    {
     "name": "stdout",
     "output_type": "stream",
     "text": [
      "Page 42: APPENDIX B: OBJECTIVES DEVELOPMENT PROCESS\n",
      "In accordance with the methodology principle of Architect from the Right, in November 2021, the NASA Executive Council \n",
      "tasked the mission directorates to draft a set of top-level goals and objectives necessary to achieve the Moon to Mars \n",
      "endeavor. The tas\n",
      "\n",
      "Page 13: objective-baSed approach architect From the riGht / execute From the leFt\n",
      "Architect from the right \n",
      "– work backwards from \n",
      "the defined goal and \n",
      "establish a complete set \n",
      "of elements that will be \n",
      "required for success.\n",
      "NASA’s Moon to Mars strategy is guided by both a robust systems engineering proce\n",
      "\n"
     ]
    }
   ],
   "source": [
    "for doc in docs:\n",
    "    print(f'Page {doc.metadata[\"page\"]}: {doc.page_content[:300]}\\n')"
   ]
  },
  {
   "cell_type": "code",
   "execution_count": 432,
   "id": "8adf50a3",
   "metadata": {},
   "outputs": [],
   "source": [
    "retriever = vector_store.as_retriever(search_type=\"similarity\", search_kwargs={\"k\": 5})\n"
   ]
  },
  {
   "cell_type": "code",
   "execution_count": 433,
   "id": "0b21ddcd",
   "metadata": {},
   "outputs": [],
   "source": [
    "from langchain_core.prompts import ChatPromptTemplate"
   ]
  },
  {
   "cell_type": "code",
   "execution_count": 434,
   "id": "c0dc2126",
   "metadata": {},
   "outputs": [],
   "source": [
    "template = \"\"\"\n",
    "    You are a helpful assistant that only gives answers bases on the given context. If the answer is not in the context, say \"I do not know\".capitalize\n",
    "    \n",
    "    Context: {context}\n",
    "    \n",
    "    Question: {question}\n",
    "    \n",
    "    Answer:\n",
    "\"\"\""
   ]
  },
  {
   "cell_type": "code",
   "execution_count": 435,
   "id": "abb906cc",
   "metadata": {},
   "outputs": [],
   "source": [
    "prompt = ChatPromptTemplate.from_template(template)"
   ]
  },
  {
   "cell_type": "code",
   "execution_count": 436,
   "id": "7ad8cdea",
   "metadata": {},
   "outputs": [],
   "source": [
    "from langchain_core.output_parsers import StrOutputParser\n",
    "from langchain_core.runnables import RunnablePassthrough"
   ]
  },
  {
   "cell_type": "code",
   "execution_count": 437,
   "id": "41d454d0",
   "metadata": {},
   "outputs": [],
   "source": [
    "chain = (\n",
    "    {\n",
    "        \"context\": retriever, \"question\": RunnablePassthrough()\n",
    "    }\n",
    "    | prompt \n",
    "    | llm\n",
    "    | StrOutputParser()\n",
    ")"
   ]
  },
  {
   "cell_type": "code",
   "execution_count": 438,
   "id": "0a911a8c",
   "metadata": {},
   "outputs": [],
   "source": [
    "from IPython.display import display, Markdown"
   ]
  },
  {
   "cell_type": "code",
   "execution_count": 439,
   "id": "5b695d79",
   "metadata": {},
   "outputs": [
    {
     "data": {
      "text/markdown": [
       " The Objectives Development Process is a methodology that was used to develop top-level goals and objectives for NASA's Moon to Mars strategy. This process was facilitated by the Federated Board, which reached consensus on an initial draft set of objectives by March 2022. The process involved identifying goals and binning them into four distinct tracks: Operations, Infrastructure, Transportation and Habitation, and Science. Each track was led by a respective mission directorate within NASA. The objectives development process also involved receiving feedback from the public, industry, academia, and international partners, and revising the goals and objectives based on this feedback. More details of the objectives development process can be found in Appendix B: Objectives Development Process in the given context."
      ],
      "text/plain": [
       "<IPython.core.display.Markdown object>"
      ]
     },
     "metadata": {},
     "output_type": "display_data"
    }
   ],
   "source": [
    "response = chain.invoke(\"What is the Objectives Development Process ?\")\n",
    "display(Markdown(response))"
   ]
  },
  {
   "cell_type": "code",
   "execution_count": 440,
   "id": "f53de648",
   "metadata": {},
   "outputs": [],
   "source": [
    "from langchain_core.tools import tool"
   ]
  },
  {
   "cell_type": "code",
   "execution_count": 441,
   "id": "ff783605",
   "metadata": {},
   "outputs": [],
   "source": [
    "@tool\n",
    "def pega_contexto(query: str) -> str:\n",
    "    \"\"\"Pega o contexto baseado em uma pesquisa sobre a NASA.\"\"\"\n",
    "    retriever = vector_store.as_retriever()\n",
    "    resultado = retriever.invoke(query)\n",
    "    return resultado"
   ]
  },
  {
   "cell_type": "code",
   "execution_count": 442,
   "id": "394c1d02",
   "metadata": {},
   "outputs": [],
   "source": [
    "def carrega_pdf(url:str)->str:\n",
    "    loader = PyPDFLoader(url)\n",
    "    pages = []\n",
    "    for page in loader.load():\n",
    "        pages.append(page)\n",
    "    vectorstore = InMemoryVectorStore.from_documents(pages,embed_model)\n",
    "    return vectorstore"
   ]
  },
  {
   "cell_type": "code",
   "execution_count": 470,
   "id": "a8039d63",
   "metadata": {},
   "outputs": [],
   "source": [
    "vector_store = carrega_pdf(\"NASA.pdf\")"
   ]
  },
  {
   "cell_type": "code",
   "execution_count": 443,
   "id": "0074f97f",
   "metadata": {},
   "outputs": [],
   "source": [
    "vector_store_agriculture = carrega_pdf(\"agriculture.pdf\")\n"
   ]
  },
  {
   "cell_type": "code",
   "execution_count": 444,
   "id": "fabe863a",
   "metadata": {},
   "outputs": [],
   "source": [
    "vector_store_dengue = carrega_pdf('dengue.pdf')"
   ]
  },
  {
   "cell_type": "code",
   "execution_count": 445,
   "id": "7ee6cfde",
   "metadata": {},
   "outputs": [],
   "source": [
    "@tool\n",
    "def pega_contexto_agriculture(query: str) -> str:\n",
    "    \"\"\"Pega o contexto sobre agricultura baseado em uma pesquisa.\"\"\"\n",
    "    retriever = vector_store_agriculture.as_retriever()\n",
    "    resultado = retriever.invoke(query)\n",
    "    return resultado"
   ]
  },
  {
   "cell_type": "code",
   "execution_count": 446,
   "id": "da8bbb85",
   "metadata": {},
   "outputs": [],
   "source": [
    "@tool\n",
    "def pega_contexto_dengue(query: str) -> str:\n",
    "    \"\"\"Pega o contexto sobre dengue baseado em uma pesquisa.\"\"\"\n",
    "    retriever = vector_store_dengue.as_retriever()\n",
    "    resultado = retriever.invoke(query)\n",
    "    return resultado"
   ]
  },
  {
   "cell_type": "code",
   "execution_count": 447,
   "id": "cbb8a387",
   "metadata": {},
   "outputs": [],
   "source": [
    "tools = [pega_contexto,pega_contexto_agriculture,pega_contexto_dengue]"
   ]
  },
  {
   "cell_type": "code",
   "execution_count": 448,
   "id": "14a64503",
   "metadata": {},
   "outputs": [
    {
     "data": {
      "text/plain": [
       "[Document(id='78bcac08-cd5a-4e0b-8b96-bec257506fea', metadata={'producer': 'Microsoft® Word for Microsoft 365', 'creator': 'Microsoft® Word for Microsoft 365', 'creationdate': '2022-04-05T11:18:49+02:00', 'author': 'ECDC', 'keywords': 'dengue; annual epidemiological report; EU/EEA', 'moddate': '2022-04-05T11:21:18+02:00', 'subject': 'Dengue', 'title': 'Dengue - Annual Epidemiological Report for 2020', 'source': 'dengue.pdf', 'total_pages': 8, 'page': 0, 'page_label': '1'}, page_content='Suggested citation: European Centre for Disease Prevention and Control. Dengue. In: ECDC. Annual epidemiological report for \\n2020. Stockholm: ECDC; 2022. \\n \\nStockholm, April 2022 \\n \\n© European Centre for Disease Prevention and Control, 2022. Reproduction is authorised, provided the source is acknowledged. \\n \\n \\n \\n \\n \\n \\n \\n \\n \\n \\n \\n SURVEILLANCE REPORT \\nDengue \\n \\nAnnual Epidemiological Report for 2020 \\n \\n \\n \\n \\n \\nKey facts \\n• For 2020, 26 EU/EEA countries reported 1 957 cases of dengue, of which 1 820 (93%) were confirmed. \\n• From 2016 to 2020, no obvious trend in the number of cases could be identified.  \\n• The EU/EEA notification rate in 2020 was 0.5 cases per 100 000 population. \\n• The highest rates in both men and women were among those aged 25–44 years. \\n• The number of cases peaked in January and in August. \\n• 79% of the cases with known probable country of infection were imported from the Americas, mostly \\nfrom Martinique and Guadeloupe.  \\n• Twenty-four autochthonous dengue cases were reported from the EU/EEA1: 13 by France and 11 by \\nItaly. \\nIntroduction \\nDengue is a mosquito-borne disease caused by viruses of the Flaviviridae family. The disease is widespread in \\ntropical and subtropical regions. While most clinical cases present a febrile illness, severe forms have been \\nreported, in some instances leading to the death of the patient. \\nMethods \\nThis report is based on data for 2020 retrieved from The European Surveillance System (TESSy) on 25 October \\n2021. TESSy is a system for the collection, analysis and dissemination of data on communicable diseases.  \\nFor a detailed description of the methods used to produce this report, refer to the Methods chapter [1]. \\nAn overview of the national surveillance systems is available online [2].  \\nA subset of the data used for this report is available through ECDC’s online Surveillance atlas of infectious diseases  [3]. \\n  \\n \\n \\n \\n \\n1 For the purposes of this document, the EU/EEA excludes the Outermost Regions and the Overseas Countries and Territories'),\n",
       " Document(id='46d22008-e103-4b46-9eb8-3253fc478d5b', metadata={'producer': 'Microsoft® Word for Microsoft 365', 'creator': 'Microsoft® Word for Microsoft 365', 'creationdate': '2022-04-05T11:18:49+02:00', 'author': 'ECDC', 'keywords': 'dengue; annual epidemiological report; EU/EEA', 'moddate': '2022-04-05T11:21:18+02:00', 'subject': 'Dengue', 'title': 'Dengue - Annual Epidemiological Report for 2020', 'source': 'dengue.pdf', 'total_pages': 8, 'page': 5, 'page_label': '6'}, page_content='Annual epidemiological report for 2020 SURVEILLANCE REPORT \\n \\n \\n6 \\n \\n \\n \\nFrance (n = 13) and Italy (n = 11) were the only two countries that reported autochthonous dengue cases in \\n2020. The vast majority of the dengue cases reported at the EU/EEA level were therefore related to travel to \\ndengue-endemic countries. Information on the probable country of infection was available for 1 688 travel-related \\ncases, who acquired their infections in 68 different probable countries of infection. The majority (n = 1 327; 79%) \\nof these cases were likely infected in the Americas, principally in the French overseas departments of Martinique \\n(n = 716; 54%) and Guadeloupe (n = 386; 29%).  \\nDiscussion \\nThe decrease in the number of travel-related cases of dengue in the EU/EEA in 2020 can largely be explained by \\nthe decrease in travel that occurred due to the restrictions implemented during the COVID-19 pandemic. Similarly, \\ncompared to previous years, the number of dengue cases reported in dengue-endemic countries was generally \\nvery low [4]. While it could be hypothesised that the level of virus circulation worldwide was low, it is likely that the \\nCOVID-19 pandemic limited diagnostic and surveillance capacities in EU/EEA countries and globally, thereby \\nlimiting the number of cases diagnosed and reported. Overall, 2020 data should be interpreted with caution, as it is \\nunclear how the pandemic influenced diagnostic capacity and surveillance in EU/EEA countries or globally. \\nThe vast majority of countries observed a decrease in the number of travel-related cases; however, France \\nobserved a major increase driven by epidemics in the French overseas departments of Martinique and Guadeloupe, \\nas travel between the departments and mainland France remained possible during most of 2020. \\nAs the UK left the EU on 31 January 2020, the country did not report any 2020 data through TESSy. Considering that \\nthe UK was among the countries reporting the highest numbers of cases in previous years, the total number of cases \\nreported in the EU/EEA compared with related rates of infection should be interpreted with caution.  \\nThe age and sex distribution of the dengue cases reported in the EU/EEA most likely reflects the demographic \\ncharacteristics of travellers rather than other risk factors.  \\nThe peak in the number of cases observed from January to February and the decrease in the number of cases \\nobserved in the spring were expected, as travel restrictions were established from March onwards in many \\ncountries. The peak in the number of cases observed in the winter and summer months reflects the seasonal \\ntransmission patterns in the probable countries of infection as well as the seasonality of travel. \\nSeven autochthonous vector-borne transmission events of dengue virus were reported within the EU/EEA, \\ncomprising a cumulative total of 24 cases. Six of these events occurred in France and one occurred in Italy, the \\nlatter being the first report of autochthonous dengue transmission in the country [5]. Vector-borne transmission \\nevents of dengue virus within the EU/EEA are expected in areas where Aedes albopictus is established and when \\nenvironmental conditions allow sufficient vector capacity (roughly from early summer to mid-autumn) [6]. Vector-\\nborne transmission of dengue virus has occurred within mainland EU every year since 2010, but so far all of these \\nevents have remained limited size [5].  \\nPublic health implications \\nVigilance regarding travel-related cases of dengue and other Aedes-borne infections remains essential. Public \\nhealth authorities in the EU/EEA should consider raising awareness among clinicians and travel clinic specialists \\nabout the risk related to such diseases, especially when and where vector-borne secondary transmission may take \\nplace. The detection of an autochthonous case in the EU/EEA should trigger epidemiological and entomological \\ninvestigations to assess the size of the transmission area and the potential for onward transmission, as well as to \\nguide vector control measures.  \\nTo date, Aedes albopictus is the main competent vector for dengue virus in mainland EU/EEA and is largely \\nestablished throughout the region. Aedes aegypti, the primary vector for dengue virus transmission globally, is not \\nestablished in the EU/EEA, but the species is established around the Black Sea and in several EU Overseas Countries \\nand Territories (e.g. Anguilla, Aruba, French Polynesia) and Outermost regions (e.g. Madeira, Martinique, La Réunion). \\nThe introduction and subsequent establishment of Aedes aegypti in mainland EU/EEA would certainly increase the \\nlikelihood of autochthonous transmission events within the region, as well as the size of the epidemics. \\nTransmission of dengue virus through transfusion of erythrocytes, platelets and plasma [7-10], as well as through \\nkidney, liver and bone marrow transplantation, has been documented [11,12]. Therefore, measures to prevent \\ndengue virus transmission via substances of human origin should be implemented for travellers returning from \\naffected areas and in response to autochthonous transmission within the EU/EEA. These measures may include \\ndonor deferral, donor/donation screening, blood donation quarantine, post-donation information and pathogen \\ninactivation of plasma and platelets [13].'),\n",
       " Document(id='ab09dee0-aad1-415b-a69e-2fd7134bc430', metadata={'producer': 'Microsoft® Word for Microsoft 365', 'creator': 'Microsoft® Word for Microsoft 365', 'creationdate': '2022-04-05T11:18:49+02:00', 'author': 'ECDC', 'keywords': 'dengue; annual epidemiological report; EU/EEA', 'moddate': '2022-04-05T11:21:18+02:00', 'subject': 'Dengue', 'title': 'Dengue - Annual Epidemiological Report for 2020', 'source': 'dengue.pdf', 'total_pages': 8, 'page': 1, 'page_label': '2'}, page_content='Annual epidemiological report for 2020 SURVEILLANCE REPORT \\n \\n \\n2 \\n \\n \\n \\nFor 2020, 26 EU/EEA countries reported data on dengue. No data were reported by Bulgaria, Cyprus, Denmark or \\nLiechtenstein. In addition, as the United Kingdom (UK) left the EU on 31 January 2020, the country was not \\nincluded in the data call and consequently did not provide data. All countries reported case-based data, except for \\nBelgium. Czechia and Iceland reported zero cases.  \\nEight countries (Belgium, Greece, Italy, Lithuania, Malta, Poland, Romania, Spain) referred to the 2018 dengue \\ncase definition, 13 countries referred to the EU generic case definition for viral haemorrhagic fevers, one country \\ndid not specify which case definition was used (France), and four countries used other case definitions (Czechia, \\nGermany, the Netherlands, Portugal). \\nAll reporting countries except for the Netherlands had a comprehensive surveillance system. Reporting was \\ncompulsory in all countries. \\nEpidemiology \\nFor 2020, 26 countries reported 1 957 cases of dengue, of which 1 820 (93%) were confirmed (Table 1). This was \\nthe lowest number of cases reported at the EU/EEA level since 2016. However, the UK, which was among the \\nthree countries with the highest number of cases reported from 2016 to 2019, did not provide data in 2020 due to \\nno longer being an EU Member State.  \\nFrom 2016 to 2020, the number of reported cases (excluding those from the UK) ranged from 1 563 in 2017 to \\n3 540 in 2019, with no discernible trend (Figure 2). A 45% decrease in number of cases was observed in 2020 \\ncompared with 2019 (excluding UK data). This decrease was particularly pronounced in Austria, Germany, Italy, \\nSpain and Sweden. In contrast, France observed a large increase in number of cases compared to previous years.   \\nIn 2020, France reported the highest proportion of cases (70%), followed by Germany (10%) (Table 1, Figure 1).  \\nThe EU/EEA notification rate in 2020 was 0.5 cases per 100 000 population; the country-specific rate was highest \\nin France (2.0 cases per 100 000 population).'),\n",
       " Document(id='ea9cc747-fd9c-4833-a14a-e2c898252336', metadata={'producer': 'Microsoft® Word for Microsoft 365', 'creator': 'Microsoft® Word for Microsoft 365', 'creationdate': '2022-04-05T11:18:49+02:00', 'author': 'ECDC', 'keywords': 'dengue; annual epidemiological report; EU/EEA', 'moddate': '2022-04-05T11:21:18+02:00', 'subject': 'Dengue', 'title': 'Dengue - Annual Epidemiological Report for 2020', 'source': 'dengue.pdf', 'total_pages': 8, 'page': 7, 'page_label': '8'}, page_content='Annual epidemiological report for 2020 SURVEILLANCE REPORT \\n \\n \\n8 \\n \\n \\nReferences \\n1. European Centre for Disease Prevention and Control (ECDC). Introduction to the Annual Epidemiological \\nReport. Stockholm: ECDC; 2020. Available at: https://ecdc.europa.eu/en/annual-epidemiological-\\nreports/methods \\n2. European Centre for Disease Prevention and Control (ECDC). Surveillance systems overview for 2020. \\nStockholm: ECDC; 2022. Available at: https://www.ecdc.europa.eu/en/publications-data/surveillance-\\nsystems-overview-2020 \\n3. European Centre for Disease Prevention and Control (ECDC). Surveillance atlas of infectious diseases - \\nDengue data. Stockholm: ECDC. [Accessed: 3 Mar 2022]. Available at: \\nhttp://atlas.ecdc.europa.eu/public/index.aspx?Dataset=27&HealthTopic=16 \\n4. European Centre for Disease Prevention and Control (ECDC). Communicable disease threats report, week 51, 13-19 \\nDecember 2020. Stockholm: ECDC; 2020. Available at: \\nhttps://www.ecdc.europa.eu/sites/default/files/documents/Communicable-disease-threats-report-19-dec-2020.pdf \\n5. European Centre for Disease Prevention and Control (ECDC). Autochthonous transmission of dengue virus in \\nEU/EEA, 2010-present. Stockholm: ECDC; 2022. Available at: https://www.ecdc.europa.eu/en/all-topics-\\nz/dengue/surveillance-and-disease-data/autochthonous-transmission-dengue-virus-eueea \\n6. European Centre for Disease Prevention and Control (ECDC), European Food Safety Authority (EFSA). Aedes \\nalbopictus - current known distribution, October 2021. Stockholm: ECDC; 2021. Available at: \\nhttps://www.ecdc.europa.eu/en/publications-data/aedes-albopictus-current-known-distribution-october-2021 \\n7. Tambyah PA, Koay ES, Poon ML, Lin RV, Ong BK, Transfusion-Transmitted Dengue Infection Study Group. \\nDengue hemorrhagic fever transmitted by blood transfusion. N Engl J Med. 2008 Oct 2;359(14):1526-7. \\nAvailable at: https://www.ncbi.nlm.nih.gov/pubmed/18832256 \\n8. Oh HB, Muthu V, Daruwalla ZJ, Lee SY, Koay ES, Tambyah PA. Bitten by a bug or a bag? Transfusion-\\ntransmitted dengue: a rare complication in the bleeding surgical patient. Transfusion (Paris). 2015 \\nJul;55(7):1655-61. Available at: https://www.ncbi.nlm.nih.gov/pubmed/25728040 \\n9. Matos D, Tomashek KM, Perez-Padilla J, Munoz-Jordan J, Hunsperger E, Horiuchi K, et al. Probable and \\npossible transfusion-transmitted dengue associated with NS1 antigen-negative but RNA confirmed-positive \\nred blood cells. Transfusion (Paris). 2016 Jan;56(1):215-22. Available at: \\nhttps://www.ncbi.nlm.nih.gov/pubmed/26469514 \\n10. Levi JE, Nishiya A, Felix AC, Salles NA, Sampaio LR, Hangai F, et al. Real-time symptomatic case of \\ntransfusion-transmitted dengue. Transfusion (Paris). 2015 May;55(5):961-4. Available at: \\nhttps://www.ncbi.nlm.nih.gov/pubmed/25605570 \\n11. Rosso F, Sanz AM, Parra-Lara LG, Moncada PA, Velez JD, Caicedo LA. Dengue Virus Infection in Solid Organ \\nTransplant Recipients: A Case Series and Literature Review. Am J Trop Med Hyg. 2019 Dec;101(6):1226-31. \\nAvailable at: https://www.ncbi.nlm.nih.gov/pubmed/31628736 \\n12. Punzel M, Korukluoglu G, Caglayik DY, Menemenlioglu D, Bozdag SC, Tekgunduz E, et al. Dengue virus \\ntransmission by blood stem cell donor after travel to Sri Lanka; Germany, 2013. Emerg Infect Dis. 2014 \\nAug;20(8):1366-9. Available at: https://www.ncbi.nlm.nih.gov/pubmed/25062084 \\n13. European Directorate for the Quality of Medicines and Healthcare of the Council of Europe. Guide to the \\npreparation, use and quality assurance of blood components, 20th edition. Strasbourg: EDQM; 2020. \\nAvailable at: https://www.edqm.eu/en/blood-guide \\n14. European Medicines Agency. First vaccine for prevention of dengue. Amsterdam: EMA; 2018. Available at: \\nhttps://www.ema.europa.eu/en/news/first-vaccine-prevention-dengue')]"
      ]
     },
     "execution_count": 448,
     "metadata": {},
     "output_type": "execute_result"
    }
   ],
   "source": [
    "pega_contexto_dengue.invoke(\"Cases of dengue we had since the beginning of 2025?\")"
   ]
  },
  {
   "cell_type": "code",
   "execution_count": 449,
   "id": "626b7a3d",
   "metadata": {},
   "outputs": [],
   "source": [
    "from langgraph.prebuilt import create_react_agent"
   ]
  },
  {
   "cell_type": "code",
   "execution_count": 450,
   "id": "46bc2ef5",
   "metadata": {},
   "outputs": [],
   "source": [
    "system_prompt = \"\"\"\n",
    "    You are a helpful assistant. Use ONLY the provided context to answer. \n",
    "    If the context seems partially related, try to summarize it instead of saying 'I don't know'. \n",
    "    If there is truly no relevant information, then say 'I don't know'.\n",
    "\n",
    "    - pega_contexto: Tool that returns the context based on the users query if the query is about NASA and space travels.\n",
    "    - pega_contexto_agriculture: Tool that returns the context based on the users query if the query is about agriculture.\n",
    "    - pega_contexto_dengue: Tool that returns the context based on the users query if the query is about dengue.\n",
    "\"\"\""
   ]
  },
  {
   "cell_type": "code",
   "execution_count": 451,
   "id": "bfa346d9",
   "metadata": {},
   "outputs": [],
   "source": [
    "agente_pdf = create_react_agent(model = llm, tools = tools,prompt= system_prompt)"
   ]
  },
  {
   "cell_type": "code",
   "execution_count": 452,
   "id": "128a6ee1",
   "metadata": {},
   "outputs": [
    {
     "data": {
      "text/plain": [
       "{'messages': [HumanMessage(content='What are the Objectives Development Process in NASA?', additional_kwargs={}, response_metadata={}, id='be0f65fb-44fb-4c03-a639-0535a8a16280'),\n",
       "  AIMessage(content=\" I don't have specific information about the Objectives Development Process in NASA within the provided context. The functions you've listed pertain to context extraction for queries related to NASA, agriculture, and dengue. However, without more detailed context or additional information, I cannot accurately answer this question.\", additional_kwargs={}, response_metadata={'model': 'mistral', 'created_at': '2025-08-18T14:18:28.0752095Z', 'done': True, 'done_reason': 'stop', 'total_duration': 2395387400, 'load_duration': 13154000, 'prompt_eval_count': 377, 'prompt_eval_duration': 330814800, 'eval_count': 63, 'eval_duration': 2047825100, 'model_name': 'mistral'}, id='run--04bc3bec-bad1-4e4d-8608-8868dd2a6377-0', usage_metadata={'input_tokens': 377, 'output_tokens': 63, 'total_tokens': 440})]}"
      ]
     },
     "execution_count": 452,
     "metadata": {},
     "output_type": "execute_result"
    }
   ],
   "source": [
    "resposta = agente_pdf.invoke({\"messages\": [(\"user\", \"What are the Objectives Development Process in NASA?\")]})\n",
    "resposta"
   ]
  },
  {
   "cell_type": "code",
   "execution_count": 453,
   "id": "4b0db486",
   "metadata": {},
   "outputs": [
    {
     "name": "stdout",
     "output_type": "stream",
     "text": [
      " I don't have specific information about the Objectives Development Process in NASA within the provided context. The functions you've listed pertain to context extraction for queries related to NASA, agriculture, and dengue. However, without more detailed context or additional information, I cannot accurately answer this question.\n"
     ]
    }
   ],
   "source": [
    "\n",
    "mensagem_final = resposta[\"messages\"][-1].content\n",
    "print(mensagem_final)"
   ]
  },
  {
   "cell_type": "code",
   "execution_count": 454,
   "id": "f88e72c9",
   "metadata": {},
   "outputs": [
    {
     "data": {
      "text/plain": [
       "{'messages': [HumanMessage(content='What causes dengue', additional_kwargs={}, response_metadata={}, id='4b312064-bd9a-48e2-be15-2197f0f4b2d8'),\n",
       "  AIMessage(content=\" I don't know. The provided functions do not contain information specifically related to causes of dengue. However, I can suggest that dengue is a mosquito-borne disease, typically caused by one of four related dengue viruses. It is transmitted mainly by the Aedes egypti and Aedes aegypti mosquitoes.\", additional_kwargs={}, response_metadata={'model': 'mistral', 'created_at': '2025-08-18T14:18:30.4089026Z', 'done': True, 'done_reason': 'stop', 'total_duration': 2316755100, 'load_duration': 5972300, 'prompt_eval_count': 372, 'prompt_eval_duration': 10116800, 'eval_count': 78, 'eval_duration': 2295893700, 'model_name': 'mistral'}, id='run--5fe3ae78-3797-4ed8-afd8-af0cc0d8e19f-0', usage_metadata={'input_tokens': 372, 'output_tokens': 78, 'total_tokens': 450})]}"
      ]
     },
     "execution_count": 454,
     "metadata": {},
     "output_type": "execute_result"
    }
   ],
   "source": [
    "resposta = agente_pdf.invoke({\"messages\": [(\"user\", \"What causes dengue\")]})\n",
    "resposta"
   ]
  },
  {
   "cell_type": "code",
   "execution_count": 455,
   "id": "13d271ad",
   "metadata": {},
   "outputs": [
    {
     "name": "stdout",
     "output_type": "stream",
     "text": [
      " I don't know. The provided functions do not contain information specifically related to causes of dengue. However, I can suggest that dengue is a mosquito-borne disease, typically caused by one of four related dengue viruses. It is transmitted mainly by the Aedes egypti and Aedes aegypti mosquitoes.\n"
     ]
    }
   ],
   "source": [
    "mensagem_final = resposta[\"messages\"][-1].content\n",
    "print(mensagem_final)"
   ]
  },
  {
   "cell_type": "code",
   "execution_count": 456,
   "id": "12f64538",
   "metadata": {},
   "outputs": [
    {
     "data": {
      "text/plain": [
       "{'messages': [HumanMessage(content='Why agriculture is important to indian economy?', additional_kwargs={}, response_metadata={}, id='b0e5beef-da39-41bb-8b4a-5c2fb46d7afb'),\n",
       "  AIMessage(content=\" Based on the provided context, there are no tools specifically designed for that question as they seem more focused on NASA, space travels, and dengue. However, one could infer that agriculture is likely significant in India's economy due to the country's agricultural sector being a major contributor to its GDP (Gross Domestic Product), employment, food security, and export revenue. Unfortunately, without more specific context or additional tools, I can't provide a detailed answer on this topic.\", additional_kwargs={}, response_metadata={'model': 'mistral', 'created_at': '2025-08-18T14:18:33.4073154Z', 'done': True, 'done_reason': 'stop', 'total_duration': 2981202200, 'load_duration': 7254400, 'prompt_eval_count': 376, 'prompt_eval_duration': 14776800, 'eval_count': 101, 'eval_duration': 2955874300, 'model_name': 'mistral'}, id='run--4ffdd5f5-90d1-4f50-9975-6ffb0219c41e-0', usage_metadata={'input_tokens': 376, 'output_tokens': 101, 'total_tokens': 477})]}"
      ]
     },
     "execution_count": 456,
     "metadata": {},
     "output_type": "execute_result"
    }
   ],
   "source": [
    "resposta = agente_pdf.invoke({\"messages\": [(\"user\", \"Why agriculture is important to indian economy?\")]})\n",
    "resposta"
   ]
  },
  {
   "cell_type": "code",
   "execution_count": 457,
   "id": "02bfde26",
   "metadata": {},
   "outputs": [
    {
     "name": "stdout",
     "output_type": "stream",
     "text": [
      " Based on the provided context, there are no tools specifically designed for that question as they seem more focused on NASA, space travels, and dengue. However, one could infer that agriculture is likely significant in India's economy due to the country's agricultural sector being a major contributor to its GDP (Gross Domestic Product), employment, food security, and export revenue. Unfortunately, without more specific context or additional tools, I can't provide a detailed answer on this topic.\n"
     ]
    }
   ],
   "source": [
    "mensagem_final = resposta[\"messages\"][-1].content\n",
    "print(mensagem_final)"
   ]
  },
  {
   "cell_type": "code",
   "execution_count": 458,
   "id": "4052096b",
   "metadata": {},
   "outputs": [],
   "source": [
    "from langgraph.checkpoint.memory import MemorySaver\n",
    "from langgraph.graph import MessagesState\n",
    "from langgraph.graph import START, StateGraph, END\n",
    "from langgraph.prebuilt import tools_condition\n",
    "from langgraph.prebuilt import ToolNode\n",
    "from IPython.display import Image, display\n",
    "from langchain_core.messages import HumanMessage, SystemMessage"
   ]
  },
  {
   "cell_type": "code",
   "execution_count": 459,
   "id": "c19a6ce4",
   "metadata": {},
   "outputs": [],
   "source": [
    "grafo = StateGraph(MessagesState)"
   ]
  },
  {
   "cell_type": "code",
   "execution_count": 460,
   "id": "3b07b77b",
   "metadata": {},
   "outputs": [
    {
     "data": {
      "text/plain": [
       "<langgraph.graph.state.StateGraph at 0x1cb0ce390d0>"
      ]
     },
     "execution_count": 460,
     "metadata": {},
     "output_type": "execute_result"
    }
   ],
   "source": [
    "grafo.add_node(\"assistente\",agente_pdf)\n",
    "grafo.add_node(\"tools\",ToolNode(tools))"
   ]
  },
  {
   "cell_type": "code",
   "execution_count": 461,
   "id": "5035f529",
   "metadata": {},
   "outputs": [
    {
     "data": {
      "text/plain": [
       "<langgraph.graph.state.StateGraph at 0x1cb0ce390d0>"
      ]
     },
     "execution_count": 461,
     "metadata": {},
     "output_type": "execute_result"
    }
   ],
   "source": [
    "grafo.add_edge(START,\"assistente\")\n",
    "grafo.add_conditional_edges(\"assistente\",tools_condition)\n"
   ]
  },
  {
   "cell_type": "code",
   "execution_count": 462,
   "id": "afa798b7",
   "metadata": {},
   "outputs": [
    {
     "data": {
      "text/plain": [
       "<langgraph.graph.state.StateGraph at 0x1cb0ce390d0>"
      ]
     },
     "execution_count": 462,
     "metadata": {},
     "output_type": "execute_result"
    }
   ],
   "source": [
    "grafo.add_edge(\"tools\",\"assistente\")"
   ]
  },
  {
   "cell_type": "code",
   "execution_count": 463,
   "id": "157e470a",
   "metadata": {},
   "outputs": [
    {
     "data": {
      "text/plain": [
       "<langgraph.graph.state.StateGraph at 0x1cb0ce390d0>"
      ]
     },
     "execution_count": 463,
     "metadata": {},
     "output_type": "execute_result"
    }
   ],
   "source": [
    "grafo.add_edge(\"assistente\",END)"
   ]
  },
  {
   "cell_type": "code",
   "execution_count": 464,
   "id": "73e8c475",
   "metadata": {},
   "outputs": [],
   "source": [
    "memoria = MemorySaver()\n",
    "app = grafo.compile(checkpointer=memoria)"
   ]
  },
  {
   "cell_type": "code",
   "execution_count": 465,
   "id": "52426d04",
   "metadata": {},
   "outputs": [
    {
     "data": {
      "image/png": "[encoded data removed]",
      "text/plain": [
       "<IPython.core.display.Image object>"
      ]
     },
     "execution_count": 465,
     "metadata": {},
     "output_type": "execute_result"
    }
   ],
   "source": [
    "Image(app.get_graph().draw_mermaid_png())"
   ]
  },
  {
   "cell_type": "code",
   "execution_count": 466,
   "id": "017f571f",
   "metadata": {},
   "outputs": [],
   "source": [
    "def chat_com_memoria(mensagem_usuario: str, thread_id=\"1\",verbose = True):\n",
    "    config ={\"configurable\": {\"thread_id\": thread_id}}\n",
    "    messages = app.invoke({\"messages\":[HumanMessage(content=mensagem_usuario)]},config)\n",
    "    if verbose:\n",
    "        for message in messages['messages']:\n",
    "            message.pretty_print()\n",
    "    else:\n",
    "        messages['messages'][-1].pretty_print()"
   ]
  },
  {
   "cell_type": "code",
   "execution_count": 467,
   "id": "732e9446",
   "metadata": {},
   "outputs": [
    {
     "name": "stdout",
     "output_type": "stream",
     "text": [
      "==================================\u001b[1m Ai Message \u001b[0m==================================\n",
      "\n",
      " To answer your question, I would use the `pega_contexto_agriculture` function. However, as a text-based AI, I don't have the ability to directly execute functions or access databases.\n",
      "\n",
      "Here's a summary of agriculture's importance in India's economy and its current needs based on the context provided:\n",
      "\n",
      "1. Agriculture plays a significant role in India's economy due to its employment generation capabilities, providing livelihood for over 50% of the country's population.\n",
      "2. The sector contributes nearly 18% to India's GDP.\n",
      "3. India is the world's largest producer of several agricultural commodities such as milk, pulses, and spices.\n",
      "4. Despite its significance, Indian agriculture faces challenges like low productivity, lack of irrigation facilities, inadequate infrastructure, and uncertainty due to climate change.\n",
      "5. To overcome these issues, there is a growing need for modern agricultural practices, better farming techniques, improved irrigation systems, and sustainable agricultural policies.\n",
      "6. Furthermore, investments in research and development, as well as technological advancements, can help boost agricultural productivity and make Indian agriculture more resilient to climate change.\n"
     ]
    }
   ],
   "source": [
    "chat_com_memoria(mensagem_usuario=\"Why is agriculture crucial for India's economy, and what's its current need?\", thread_id=\"2\", verbose=False)"
   ]
  },
  {
   "cell_type": "code",
   "execution_count": 468,
   "id": "0baaff00",
   "metadata": {},
   "outputs": [
    {
     "name": "stdout",
     "output_type": "stream",
     "text": [
      "==================================\u001b[1m Ai Message \u001b[0m==================================\n",
      "\n",
      " Based on the provided context, there is no information about NASA's plans to travel to a specific planet. The provided context focuses on tools for retrieving information about NASA, agriculture, and dengue but does not contain any details related to a planned space mission by NASA.\n"
     ]
    }
   ],
   "source": [
    "chat_com_memoria(mensagem_usuario=\"What is the planet NASA is going ?\", thread_id=\"2\", verbose=False)"
   ]
  }
 ],
 "metadata": {
  "kernelspec": {
   "display_name": "Python 3",
   "language": "python",
   "name": "python3"
  },
  "language_info": {
   "codemirror_mode": {
    "name": "ipython",
    "version": 3
   },
   "file_extension": ".py",
   "mimetype": "text/x-python",
   "name": "python",
   "nbconvert_exporter": "python",
   "pygments_lexer": "ipython3",
   "version": "3.12.10"
  }
 },
 "nbformat": 4,
 "nbformat_minor": 5
}
